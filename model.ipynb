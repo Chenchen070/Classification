{
 "cells": [
  {
   "cell_type": "code",
   "execution_count": 1,
   "id": "95466db8",
   "metadata": {},
   "outputs": [],
   "source": [
    "import matplotlib.pyplot as plt\n",
    "import numpy as np\n",
    "import pandas as pd\n",
    "import seaborn as sns\n",
    "\n",
    "from sklearn.tree import DecisionTreeClassifier, plot_tree, export_text\n",
    "from sklearn.model_selection import train_test_split\n",
    "from sklearn.metrics import classification_report, confusion_matrix, plot_confusion_matrix\n",
    "\n",
    "# turn off pink boxes for demo\n",
    "import warnings\n",
    "warnings.filterwarnings(\"ignore\")"
   ]
  },
  {
   "cell_type": "markdown",
   "id": "1d393c62",
   "metadata": {},
   "source": [
    "# Decision tree - Exercises\n",
    "\n",
    "### Using the titanic data, in your classification-exercises repository, create a notebook, `model.ipynb` where you will do the following:\n",
    "\n",
    "1. What is your baseline prediction? What is your baseline accuracy? remember: your baseline prediction for a classification problem is predicting the most prevelant class in the training dataset (the mode). When you make those predictions, what is your accuracy? This is your baseline accuracy.\n",
    "\n",
    "2. Fit the decision tree classifier to your training sample and transform (i.e. make predictions on the training sample)\n",
    "\n",
    "3. Evaluate your in-sample results using the model score, confusion matrix, and classification report.\n",
    "\n",
    "4. Compute: Accuracy, true positive rate, false positive rate, true negative rate, false negative rate, precision, recall, f1-score, and support.\n",
    "\n",
    "5. Run through steps 2-4 using a different max_depth value.\n",
    "\n",
    "6. Which model performs better on your in-sample data?\n",
    "\n",
    "7. Which model performs best on your out-of-sample data, the validate set?\n",
    "\n",
    "8. Work through these same exercises using the Telco dataset."
   ]
  },
  {
   "cell_type": "code",
   "execution_count": 2,
   "id": "7c955c2e",
   "metadata": {},
   "outputs": [
    {
     "data": {
      "text/html": [
       "<div>\n",
       "<style scoped>\n",
       "    .dataframe tbody tr th:only-of-type {\n",
       "        vertical-align: middle;\n",
       "    }\n",
       "\n",
       "    .dataframe tbody tr th {\n",
       "        vertical-align: top;\n",
       "    }\n",
       "\n",
       "    .dataframe thead th {\n",
       "        text-align: right;\n",
       "    }\n",
       "</style>\n",
       "<table border=\"1\" class=\"dataframe\">\n",
       "  <thead>\n",
       "    <tr style=\"text-align: right;\">\n",
       "      <th></th>\n",
       "      <th>passenger_id</th>\n",
       "      <th>survived</th>\n",
       "      <th>pclass</th>\n",
       "      <th>sex</th>\n",
       "      <th>age</th>\n",
       "      <th>sibsp</th>\n",
       "      <th>parch</th>\n",
       "      <th>fare</th>\n",
       "      <th>embarked</th>\n",
       "      <th>class</th>\n",
       "      <th>deck</th>\n",
       "      <th>embark_town</th>\n",
       "      <th>alone</th>\n",
       "    </tr>\n",
       "  </thead>\n",
       "  <tbody>\n",
       "    <tr>\n",
       "      <th>0</th>\n",
       "      <td>0</td>\n",
       "      <td>0</td>\n",
       "      <td>3</td>\n",
       "      <td>male</td>\n",
       "      <td>22.0</td>\n",
       "      <td>1</td>\n",
       "      <td>0</td>\n",
       "      <td>7.2500</td>\n",
       "      <td>S</td>\n",
       "      <td>Third</td>\n",
       "      <td>NaN</td>\n",
       "      <td>Southampton</td>\n",
       "      <td>0</td>\n",
       "    </tr>\n",
       "    <tr>\n",
       "      <th>1</th>\n",
       "      <td>1</td>\n",
       "      <td>1</td>\n",
       "      <td>1</td>\n",
       "      <td>female</td>\n",
       "      <td>38.0</td>\n",
       "      <td>1</td>\n",
       "      <td>0</td>\n",
       "      <td>71.2833</td>\n",
       "      <td>C</td>\n",
       "      <td>First</td>\n",
       "      <td>C</td>\n",
       "      <td>Cherbourg</td>\n",
       "      <td>0</td>\n",
       "    </tr>\n",
       "    <tr>\n",
       "      <th>2</th>\n",
       "      <td>2</td>\n",
       "      <td>1</td>\n",
       "      <td>3</td>\n",
       "      <td>female</td>\n",
       "      <td>26.0</td>\n",
       "      <td>0</td>\n",
       "      <td>0</td>\n",
       "      <td>7.9250</td>\n",
       "      <td>S</td>\n",
       "      <td>Third</td>\n",
       "      <td>NaN</td>\n",
       "      <td>Southampton</td>\n",
       "      <td>1</td>\n",
       "    </tr>\n",
       "    <tr>\n",
       "      <th>3</th>\n",
       "      <td>3</td>\n",
       "      <td>1</td>\n",
       "      <td>1</td>\n",
       "      <td>female</td>\n",
       "      <td>35.0</td>\n",
       "      <td>1</td>\n",
       "      <td>0</td>\n",
       "      <td>53.1000</td>\n",
       "      <td>S</td>\n",
       "      <td>First</td>\n",
       "      <td>C</td>\n",
       "      <td>Southampton</td>\n",
       "      <td>0</td>\n",
       "    </tr>\n",
       "    <tr>\n",
       "      <th>4</th>\n",
       "      <td>4</td>\n",
       "      <td>0</td>\n",
       "      <td>3</td>\n",
       "      <td>male</td>\n",
       "      <td>35.0</td>\n",
       "      <td>0</td>\n",
       "      <td>0</td>\n",
       "      <td>8.0500</td>\n",
       "      <td>S</td>\n",
       "      <td>Third</td>\n",
       "      <td>NaN</td>\n",
       "      <td>Southampton</td>\n",
       "      <td>1</td>\n",
       "    </tr>\n",
       "  </tbody>\n",
       "</table>\n",
       "</div>"
      ],
      "text/plain": [
       "   passenger_id  survived  pclass     sex   age  sibsp  parch     fare  \\\n",
       "0             0         0       3    male  22.0      1      0   7.2500   \n",
       "1             1         1       1  female  38.0      1      0  71.2833   \n",
       "2             2         1       3  female  26.0      0      0   7.9250   \n",
       "3             3         1       1  female  35.0      1      0  53.1000   \n",
       "4             4         0       3    male  35.0      0      0   8.0500   \n",
       "\n",
       "  embarked  class deck  embark_town  alone  \n",
       "0        S  Third  NaN  Southampton      0  \n",
       "1        C  First    C    Cherbourg      0  \n",
       "2        S  Third  NaN  Southampton      1  \n",
       "3        S  First    C  Southampton      0  \n",
       "4        S  Third  NaN  Southampton      1  "
      ]
     },
     "execution_count": 2,
     "metadata": {},
     "output_type": "execute_result"
    }
   ],
   "source": [
    "df = pd.read_csv('titanic.csv', index_col=[0])\n",
    "df.head()"
   ]
  },
  {
   "cell_type": "code",
   "execution_count": 3,
   "id": "ce598140",
   "metadata": {},
   "outputs": [
    {
     "name": "stdout",
     "output_type": "stream",
     "text": [
      "<class 'pandas.core.frame.DataFrame'>\n",
      "Int64Index: 891 entries, 0 to 890\n",
      "Data columns (total 13 columns):\n",
      " #   Column        Non-Null Count  Dtype  \n",
      "---  ------        --------------  -----  \n",
      " 0   passenger_id  891 non-null    int64  \n",
      " 1   survived      891 non-null    int64  \n",
      " 2   pclass        891 non-null    int64  \n",
      " 3   sex           891 non-null    object \n",
      " 4   age           714 non-null    float64\n",
      " 5   sibsp         891 non-null    int64  \n",
      " 6   parch         891 non-null    int64  \n",
      " 7   fare          891 non-null    float64\n",
      " 8   embarked      889 non-null    object \n",
      " 9   class         891 non-null    object \n",
      " 10  deck          203 non-null    object \n",
      " 11  embark_town   889 non-null    object \n",
      " 12  alone         891 non-null    int64  \n",
      "dtypes: float64(2), int64(6), object(5)\n",
      "memory usage: 97.5+ KB\n"
     ]
    }
   ],
   "source": [
    "df.info()"
   ]
  },
  {
   "cell_type": "code",
   "execution_count": 3,
   "id": "073c6380",
   "metadata": {},
   "outputs": [],
   "source": [
    "from prepare import clean_titanic_data"
   ]
  },
  {
   "cell_type": "code",
   "execution_count": 4,
   "id": "2ee9a3c2",
   "metadata": {},
   "outputs": [
    {
     "data": {
      "text/html": [
       "<div>\n",
       "<style scoped>\n",
       "    .dataframe tbody tr th:only-of-type {\n",
       "        vertical-align: middle;\n",
       "    }\n",
       "\n",
       "    .dataframe tbody tr th {\n",
       "        vertical-align: top;\n",
       "    }\n",
       "\n",
       "    .dataframe thead th {\n",
       "        text-align: right;\n",
       "    }\n",
       "</style>\n",
       "<table border=\"1\" class=\"dataframe\">\n",
       "  <thead>\n",
       "    <tr style=\"text-align: right;\">\n",
       "      <th></th>\n",
       "      <th>passenger_id</th>\n",
       "      <th>survived</th>\n",
       "      <th>pclass</th>\n",
       "      <th>sex</th>\n",
       "      <th>sibsp</th>\n",
       "      <th>parch</th>\n",
       "      <th>fare</th>\n",
       "      <th>embark_town</th>\n",
       "      <th>alone</th>\n",
       "      <th>sex_male</th>\n",
       "      <th>embark_town_Queenstown</th>\n",
       "      <th>embark_town_Southampton</th>\n",
       "    </tr>\n",
       "  </thead>\n",
       "  <tbody>\n",
       "    <tr>\n",
       "      <th>0</th>\n",
       "      <td>0</td>\n",
       "      <td>0</td>\n",
       "      <td>3</td>\n",
       "      <td>male</td>\n",
       "      <td>1</td>\n",
       "      <td>0</td>\n",
       "      <td>7.2500</td>\n",
       "      <td>Southampton</td>\n",
       "      <td>0</td>\n",
       "      <td>1</td>\n",
       "      <td>0</td>\n",
       "      <td>1</td>\n",
       "    </tr>\n",
       "    <tr>\n",
       "      <th>1</th>\n",
       "      <td>1</td>\n",
       "      <td>1</td>\n",
       "      <td>1</td>\n",
       "      <td>female</td>\n",
       "      <td>1</td>\n",
       "      <td>0</td>\n",
       "      <td>71.2833</td>\n",
       "      <td>Cherbourg</td>\n",
       "      <td>0</td>\n",
       "      <td>0</td>\n",
       "      <td>0</td>\n",
       "      <td>0</td>\n",
       "    </tr>\n",
       "    <tr>\n",
       "      <th>2</th>\n",
       "      <td>2</td>\n",
       "      <td>1</td>\n",
       "      <td>3</td>\n",
       "      <td>female</td>\n",
       "      <td>0</td>\n",
       "      <td>0</td>\n",
       "      <td>7.9250</td>\n",
       "      <td>Southampton</td>\n",
       "      <td>1</td>\n",
       "      <td>0</td>\n",
       "      <td>0</td>\n",
       "      <td>1</td>\n",
       "    </tr>\n",
       "    <tr>\n",
       "      <th>3</th>\n",
       "      <td>3</td>\n",
       "      <td>1</td>\n",
       "      <td>1</td>\n",
       "      <td>female</td>\n",
       "      <td>1</td>\n",
       "      <td>0</td>\n",
       "      <td>53.1000</td>\n",
       "      <td>Southampton</td>\n",
       "      <td>0</td>\n",
       "      <td>0</td>\n",
       "      <td>0</td>\n",
       "      <td>1</td>\n",
       "    </tr>\n",
       "    <tr>\n",
       "      <th>4</th>\n",
       "      <td>4</td>\n",
       "      <td>0</td>\n",
       "      <td>3</td>\n",
       "      <td>male</td>\n",
       "      <td>0</td>\n",
       "      <td>0</td>\n",
       "      <td>8.0500</td>\n",
       "      <td>Southampton</td>\n",
       "      <td>1</td>\n",
       "      <td>1</td>\n",
       "      <td>0</td>\n",
       "      <td>1</td>\n",
       "    </tr>\n",
       "  </tbody>\n",
       "</table>\n",
       "</div>"
      ],
      "text/plain": [
       "   passenger_id  survived  pclass     sex  sibsp  parch     fare  embark_town  \\\n",
       "0             0         0       3    male      1      0   7.2500  Southampton   \n",
       "1             1         1       1  female      1      0  71.2833    Cherbourg   \n",
       "2             2         1       3  female      0      0   7.9250  Southampton   \n",
       "3             3         1       1  female      1      0  53.1000  Southampton   \n",
       "4             4         0       3    male      0      0   8.0500  Southampton   \n",
       "\n",
       "   alone  sex_male  embark_town_Queenstown  embark_town_Southampton  \n",
       "0      0         1                       0                        1  \n",
       "1      0         0                       0                        0  \n",
       "2      1         0                       0                        1  \n",
       "3      0         0                       0                        1  \n",
       "4      1         1                       0                        1  "
      ]
     },
     "execution_count": 4,
     "metadata": {},
     "output_type": "execute_result"
    }
   ],
   "source": [
    "df = clean_titanic_data(df)\n",
    "df.head()"
   ]
  },
  {
   "cell_type": "code",
   "execution_count": 5,
   "id": "ee49415f",
   "metadata": {},
   "outputs": [
    {
     "data": {
      "text/html": [
       "<div>\n",
       "<style scoped>\n",
       "    .dataframe tbody tr th:only-of-type {\n",
       "        vertical-align: middle;\n",
       "    }\n",
       "\n",
       "    .dataframe tbody tr th {\n",
       "        vertical-align: top;\n",
       "    }\n",
       "\n",
       "    .dataframe thead th {\n",
       "        text-align: right;\n",
       "    }\n",
       "</style>\n",
       "<table border=\"1\" class=\"dataframe\">\n",
       "  <thead>\n",
       "    <tr style=\"text-align: right;\">\n",
       "      <th></th>\n",
       "      <th>2</th>\n",
       "      <th>3</th>\n",
       "    </tr>\n",
       "  </thead>\n",
       "  <tbody>\n",
       "    <tr>\n",
       "      <th>0</th>\n",
       "      <td>0</td>\n",
       "      <td>1</td>\n",
       "    </tr>\n",
       "    <tr>\n",
       "      <th>1</th>\n",
       "      <td>0</td>\n",
       "      <td>0</td>\n",
       "    </tr>\n",
       "    <tr>\n",
       "      <th>2</th>\n",
       "      <td>0</td>\n",
       "      <td>1</td>\n",
       "    </tr>\n",
       "    <tr>\n",
       "      <th>3</th>\n",
       "      <td>0</td>\n",
       "      <td>0</td>\n",
       "    </tr>\n",
       "    <tr>\n",
       "      <th>4</th>\n",
       "      <td>0</td>\n",
       "      <td>1</td>\n",
       "    </tr>\n",
       "  </tbody>\n",
       "</table>\n",
       "</div>"
      ],
      "text/plain": [
       "   2  3\n",
       "0  0  1\n",
       "1  0  0\n",
       "2  0  1\n",
       "3  0  0\n",
       "4  0  1"
      ]
     },
     "execution_count": 5,
     "metadata": {},
     "output_type": "execute_result"
    }
   ],
   "source": [
    "df_dummy = pd.get_dummies(df['pclass'], drop_first=True)\n",
    "df_dummy.head()"
   ]
  },
  {
   "cell_type": "code",
   "execution_count": 6,
   "id": "1b456ef5",
   "metadata": {},
   "outputs": [
    {
     "data": {
      "text/html": [
       "<div>\n",
       "<style scoped>\n",
       "    .dataframe tbody tr th:only-of-type {\n",
       "        vertical-align: middle;\n",
       "    }\n",
       "\n",
       "    .dataframe tbody tr th {\n",
       "        vertical-align: top;\n",
       "    }\n",
       "\n",
       "    .dataframe thead th {\n",
       "        text-align: right;\n",
       "    }\n",
       "</style>\n",
       "<table border=\"1\" class=\"dataframe\">\n",
       "  <thead>\n",
       "    <tr style=\"text-align: right;\">\n",
       "      <th></th>\n",
       "      <th>passenger_id</th>\n",
       "      <th>survived</th>\n",
       "      <th>pclass</th>\n",
       "      <th>sex</th>\n",
       "      <th>sibsp</th>\n",
       "      <th>parch</th>\n",
       "      <th>fare</th>\n",
       "      <th>embark_town</th>\n",
       "      <th>alone</th>\n",
       "      <th>sex_male</th>\n",
       "      <th>embark_town_Queenstown</th>\n",
       "      <th>embark_town_Southampton</th>\n",
       "      <th>2</th>\n",
       "      <th>3</th>\n",
       "    </tr>\n",
       "  </thead>\n",
       "  <tbody>\n",
       "    <tr>\n",
       "      <th>0</th>\n",
       "      <td>0</td>\n",
       "      <td>0</td>\n",
       "      <td>3</td>\n",
       "      <td>male</td>\n",
       "      <td>1</td>\n",
       "      <td>0</td>\n",
       "      <td>7.2500</td>\n",
       "      <td>Southampton</td>\n",
       "      <td>0</td>\n",
       "      <td>1</td>\n",
       "      <td>0</td>\n",
       "      <td>1</td>\n",
       "      <td>0</td>\n",
       "      <td>1</td>\n",
       "    </tr>\n",
       "    <tr>\n",
       "      <th>1</th>\n",
       "      <td>1</td>\n",
       "      <td>1</td>\n",
       "      <td>1</td>\n",
       "      <td>female</td>\n",
       "      <td>1</td>\n",
       "      <td>0</td>\n",
       "      <td>71.2833</td>\n",
       "      <td>Cherbourg</td>\n",
       "      <td>0</td>\n",
       "      <td>0</td>\n",
       "      <td>0</td>\n",
       "      <td>0</td>\n",
       "      <td>0</td>\n",
       "      <td>0</td>\n",
       "    </tr>\n",
       "    <tr>\n",
       "      <th>2</th>\n",
       "      <td>2</td>\n",
       "      <td>1</td>\n",
       "      <td>3</td>\n",
       "      <td>female</td>\n",
       "      <td>0</td>\n",
       "      <td>0</td>\n",
       "      <td>7.9250</td>\n",
       "      <td>Southampton</td>\n",
       "      <td>1</td>\n",
       "      <td>0</td>\n",
       "      <td>0</td>\n",
       "      <td>1</td>\n",
       "      <td>0</td>\n",
       "      <td>1</td>\n",
       "    </tr>\n",
       "    <tr>\n",
       "      <th>3</th>\n",
       "      <td>3</td>\n",
       "      <td>1</td>\n",
       "      <td>1</td>\n",
       "      <td>female</td>\n",
       "      <td>1</td>\n",
       "      <td>0</td>\n",
       "      <td>53.1000</td>\n",
       "      <td>Southampton</td>\n",
       "      <td>0</td>\n",
       "      <td>0</td>\n",
       "      <td>0</td>\n",
       "      <td>1</td>\n",
       "      <td>0</td>\n",
       "      <td>0</td>\n",
       "    </tr>\n",
       "    <tr>\n",
       "      <th>4</th>\n",
       "      <td>4</td>\n",
       "      <td>0</td>\n",
       "      <td>3</td>\n",
       "      <td>male</td>\n",
       "      <td>0</td>\n",
       "      <td>0</td>\n",
       "      <td>8.0500</td>\n",
       "      <td>Southampton</td>\n",
       "      <td>1</td>\n",
       "      <td>1</td>\n",
       "      <td>0</td>\n",
       "      <td>1</td>\n",
       "      <td>0</td>\n",
       "      <td>1</td>\n",
       "    </tr>\n",
       "  </tbody>\n",
       "</table>\n",
       "</div>"
      ],
      "text/plain": [
       "   passenger_id  survived  pclass     sex  sibsp  parch     fare  embark_town  \\\n",
       "0             0         0       3    male      1      0   7.2500  Southampton   \n",
       "1             1         1       1  female      1      0  71.2833    Cherbourg   \n",
       "2             2         1       3  female      0      0   7.9250  Southampton   \n",
       "3             3         1       1  female      1      0  53.1000  Southampton   \n",
       "4             4         0       3    male      0      0   8.0500  Southampton   \n",
       "\n",
       "   alone  sex_male  embark_town_Queenstown  embark_town_Southampton  2  3  \n",
       "0      0         1                       0                        1  0  1  \n",
       "1      0         0                       0                        0  0  0  \n",
       "2      1         0                       0                        1  0  1  \n",
       "3      0         0                       0                        1  0  0  \n",
       "4      1         1                       0                        1  0  1  "
      ]
     },
     "execution_count": 6,
     "metadata": {},
     "output_type": "execute_result"
    }
   ],
   "source": [
    "df = pd.concat([df, df_dummy], axis=1)\n",
    "df.head()"
   ]
  },
  {
   "cell_type": "code",
   "execution_count": 7,
   "id": "df3b1f27",
   "metadata": {},
   "outputs": [
    {
     "data": {
      "text/html": [
       "<div>\n",
       "<style scoped>\n",
       "    .dataframe tbody tr th:only-of-type {\n",
       "        vertical-align: middle;\n",
       "    }\n",
       "\n",
       "    .dataframe tbody tr th {\n",
       "        vertical-align: top;\n",
       "    }\n",
       "\n",
       "    .dataframe thead th {\n",
       "        text-align: right;\n",
       "    }\n",
       "</style>\n",
       "<table border=\"1\" class=\"dataframe\">\n",
       "  <thead>\n",
       "    <tr style=\"text-align: right;\">\n",
       "      <th></th>\n",
       "      <th>passenger_id</th>\n",
       "      <th>survived</th>\n",
       "      <th>pclass</th>\n",
       "      <th>sex</th>\n",
       "      <th>sibsp</th>\n",
       "      <th>parch</th>\n",
       "      <th>fare</th>\n",
       "      <th>embark_town</th>\n",
       "      <th>alone</th>\n",
       "      <th>sex_male</th>\n",
       "      <th>embark_town_Queenstown</th>\n",
       "      <th>embark_town_Southampton</th>\n",
       "      <th>second_class</th>\n",
       "      <th>third_class</th>\n",
       "    </tr>\n",
       "  </thead>\n",
       "  <tbody>\n",
       "    <tr>\n",
       "      <th>0</th>\n",
       "      <td>0</td>\n",
       "      <td>0</td>\n",
       "      <td>3</td>\n",
       "      <td>male</td>\n",
       "      <td>1</td>\n",
       "      <td>0</td>\n",
       "      <td>7.2500</td>\n",
       "      <td>Southampton</td>\n",
       "      <td>0</td>\n",
       "      <td>1</td>\n",
       "      <td>0</td>\n",
       "      <td>1</td>\n",
       "      <td>0</td>\n",
       "      <td>1</td>\n",
       "    </tr>\n",
       "    <tr>\n",
       "      <th>1</th>\n",
       "      <td>1</td>\n",
       "      <td>1</td>\n",
       "      <td>1</td>\n",
       "      <td>female</td>\n",
       "      <td>1</td>\n",
       "      <td>0</td>\n",
       "      <td>71.2833</td>\n",
       "      <td>Cherbourg</td>\n",
       "      <td>0</td>\n",
       "      <td>0</td>\n",
       "      <td>0</td>\n",
       "      <td>0</td>\n",
       "      <td>0</td>\n",
       "      <td>0</td>\n",
       "    </tr>\n",
       "    <tr>\n",
       "      <th>2</th>\n",
       "      <td>2</td>\n",
       "      <td>1</td>\n",
       "      <td>3</td>\n",
       "      <td>female</td>\n",
       "      <td>0</td>\n",
       "      <td>0</td>\n",
       "      <td>7.9250</td>\n",
       "      <td>Southampton</td>\n",
       "      <td>1</td>\n",
       "      <td>0</td>\n",
       "      <td>0</td>\n",
       "      <td>1</td>\n",
       "      <td>0</td>\n",
       "      <td>1</td>\n",
       "    </tr>\n",
       "    <tr>\n",
       "      <th>3</th>\n",
       "      <td>3</td>\n",
       "      <td>1</td>\n",
       "      <td>1</td>\n",
       "      <td>female</td>\n",
       "      <td>1</td>\n",
       "      <td>0</td>\n",
       "      <td>53.1000</td>\n",
       "      <td>Southampton</td>\n",
       "      <td>0</td>\n",
       "      <td>0</td>\n",
       "      <td>0</td>\n",
       "      <td>1</td>\n",
       "      <td>0</td>\n",
       "      <td>0</td>\n",
       "    </tr>\n",
       "    <tr>\n",
       "      <th>4</th>\n",
       "      <td>4</td>\n",
       "      <td>0</td>\n",
       "      <td>3</td>\n",
       "      <td>male</td>\n",
       "      <td>0</td>\n",
       "      <td>0</td>\n",
       "      <td>8.0500</td>\n",
       "      <td>Southampton</td>\n",
       "      <td>1</td>\n",
       "      <td>1</td>\n",
       "      <td>0</td>\n",
       "      <td>1</td>\n",
       "      <td>0</td>\n",
       "      <td>1</td>\n",
       "    </tr>\n",
       "  </tbody>\n",
       "</table>\n",
       "</div>"
      ],
      "text/plain": [
       "   passenger_id  survived  pclass     sex  sibsp  parch     fare  embark_town  \\\n",
       "0             0         0       3    male      1      0   7.2500  Southampton   \n",
       "1             1         1       1  female      1      0  71.2833    Cherbourg   \n",
       "2             2         1       3  female      0      0   7.9250  Southampton   \n",
       "3             3         1       1  female      1      0  53.1000  Southampton   \n",
       "4             4         0       3    male      0      0   8.0500  Southampton   \n",
       "\n",
       "   alone  sex_male  embark_town_Queenstown  embark_town_Southampton  \\\n",
       "0      0         1                       0                        1   \n",
       "1      0         0                       0                        0   \n",
       "2      1         0                       0                        1   \n",
       "3      0         0                       0                        1   \n",
       "4      1         1                       0                        1   \n",
       "\n",
       "   second_class  third_class  \n",
       "0             0            1  \n",
       "1             0            0  \n",
       "2             0            1  \n",
       "3             0            0  \n",
       "4             0            1  "
      ]
     },
     "execution_count": 7,
     "metadata": {},
     "output_type": "execute_result"
    }
   ],
   "source": [
    "df = df.rename( columns = { 2: 'second_class', 3: 'third_class'})\n",
    "df.head()"
   ]
  },
  {
   "cell_type": "markdown",
   "id": "6974c453",
   "metadata": {},
   "source": [
    "### 1. What is your baseline prediction? What is your baseline accuracy?"
   ]
  },
  {
   "cell_type": "code",
   "execution_count": 31,
   "id": "e43e1bb7",
   "metadata": {},
   "outputs": [
    {
     "data": {
      "text/plain": [
       "0    549\n",
       "1    342\n",
       "Name: survived, dtype: int64"
      ]
     },
     "execution_count": 31,
     "metadata": {},
     "output_type": "execute_result"
    }
   ],
   "source": [
    "df.survived.value_counts()\n",
    "\n",
    "# baseline prediction is : 0"
   ]
  },
  {
   "cell_type": "code",
   "execution_count": 32,
   "id": "eaf594e5",
   "metadata": {},
   "outputs": [
    {
     "data": {
      "text/html": [
       "<div>\n",
       "<style scoped>\n",
       "    .dataframe tbody tr th:only-of-type {\n",
       "        vertical-align: middle;\n",
       "    }\n",
       "\n",
       "    .dataframe tbody tr th {\n",
       "        vertical-align: top;\n",
       "    }\n",
       "\n",
       "    .dataframe thead th {\n",
       "        text-align: right;\n",
       "    }\n",
       "</style>\n",
       "<table border=\"1\" class=\"dataframe\">\n",
       "  <thead>\n",
       "    <tr style=\"text-align: right;\">\n",
       "      <th></th>\n",
       "      <th>passenger_id</th>\n",
       "      <th>survived</th>\n",
       "      <th>pclass</th>\n",
       "      <th>sex</th>\n",
       "      <th>sibsp</th>\n",
       "      <th>parch</th>\n",
       "      <th>fare</th>\n",
       "      <th>embark_town</th>\n",
       "      <th>alone</th>\n",
       "      <th>sex_male</th>\n",
       "      <th>embark_town_Queenstown</th>\n",
       "      <th>embark_town_Southampton</th>\n",
       "      <th>second_class</th>\n",
       "      <th>third_class</th>\n",
       "      <th>baseline_prediction</th>\n",
       "    </tr>\n",
       "  </thead>\n",
       "  <tbody>\n",
       "    <tr>\n",
       "      <th>0</th>\n",
       "      <td>0</td>\n",
       "      <td>0</td>\n",
       "      <td>3</td>\n",
       "      <td>male</td>\n",
       "      <td>1</td>\n",
       "      <td>0</td>\n",
       "      <td>7.2500</td>\n",
       "      <td>Southampton</td>\n",
       "      <td>0</td>\n",
       "      <td>1</td>\n",
       "      <td>0</td>\n",
       "      <td>1</td>\n",
       "      <td>0</td>\n",
       "      <td>1</td>\n",
       "      <td>0</td>\n",
       "    </tr>\n",
       "    <tr>\n",
       "      <th>1</th>\n",
       "      <td>1</td>\n",
       "      <td>1</td>\n",
       "      <td>1</td>\n",
       "      <td>female</td>\n",
       "      <td>1</td>\n",
       "      <td>0</td>\n",
       "      <td>71.2833</td>\n",
       "      <td>Cherbourg</td>\n",
       "      <td>0</td>\n",
       "      <td>0</td>\n",
       "      <td>0</td>\n",
       "      <td>0</td>\n",
       "      <td>0</td>\n",
       "      <td>0</td>\n",
       "      <td>0</td>\n",
       "    </tr>\n",
       "    <tr>\n",
       "      <th>2</th>\n",
       "      <td>2</td>\n",
       "      <td>1</td>\n",
       "      <td>3</td>\n",
       "      <td>female</td>\n",
       "      <td>0</td>\n",
       "      <td>0</td>\n",
       "      <td>7.9250</td>\n",
       "      <td>Southampton</td>\n",
       "      <td>1</td>\n",
       "      <td>0</td>\n",
       "      <td>0</td>\n",
       "      <td>1</td>\n",
       "      <td>0</td>\n",
       "      <td>1</td>\n",
       "      <td>0</td>\n",
       "    </tr>\n",
       "    <tr>\n",
       "      <th>3</th>\n",
       "      <td>3</td>\n",
       "      <td>1</td>\n",
       "      <td>1</td>\n",
       "      <td>female</td>\n",
       "      <td>1</td>\n",
       "      <td>0</td>\n",
       "      <td>53.1000</td>\n",
       "      <td>Southampton</td>\n",
       "      <td>0</td>\n",
       "      <td>0</td>\n",
       "      <td>0</td>\n",
       "      <td>1</td>\n",
       "      <td>0</td>\n",
       "      <td>0</td>\n",
       "      <td>0</td>\n",
       "    </tr>\n",
       "    <tr>\n",
       "      <th>4</th>\n",
       "      <td>4</td>\n",
       "      <td>0</td>\n",
       "      <td>3</td>\n",
       "      <td>male</td>\n",
       "      <td>0</td>\n",
       "      <td>0</td>\n",
       "      <td>8.0500</td>\n",
       "      <td>Southampton</td>\n",
       "      <td>1</td>\n",
       "      <td>1</td>\n",
       "      <td>0</td>\n",
       "      <td>1</td>\n",
       "      <td>0</td>\n",
       "      <td>1</td>\n",
       "      <td>0</td>\n",
       "    </tr>\n",
       "  </tbody>\n",
       "</table>\n",
       "</div>"
      ],
      "text/plain": [
       "   passenger_id  survived  pclass     sex  sibsp  parch     fare  embark_town  \\\n",
       "0             0         0       3    male      1      0   7.2500  Southampton   \n",
       "1             1         1       1  female      1      0  71.2833    Cherbourg   \n",
       "2             2         1       3  female      0      0   7.9250  Southampton   \n",
       "3             3         1       1  female      1      0  53.1000  Southampton   \n",
       "4             4         0       3    male      0      0   8.0500  Southampton   \n",
       "\n",
       "   alone  sex_male  embark_town_Queenstown  embark_town_Southampton  \\\n",
       "0      0         1                       0                        1   \n",
       "1      0         0                       0                        0   \n",
       "2      1         0                       0                        1   \n",
       "3      0         0                       0                        1   \n",
       "4      1         1                       0                        1   \n",
       "\n",
       "   second_class  third_class  baseline_prediction  \n",
       "0             0            1                    0  \n",
       "1             0            0                    0  \n",
       "2             0            1                    0  \n",
       "3             0            0                    0  \n",
       "4             0            1                    0  "
      ]
     },
     "execution_count": 32,
     "metadata": {},
     "output_type": "execute_result"
    }
   ],
   "source": [
    "# baseline_prediction\n",
    "df['baseline_prediction'] = 0\n",
    "df.head()"
   ]
  },
  {
   "cell_type": "code",
   "execution_count": 33,
   "id": "869cbb80",
   "metadata": {},
   "outputs": [
    {
     "data": {
      "text/plain": [
       "0.6161616161616161"
      ]
     },
     "execution_count": 33,
     "metadata": {},
     "output_type": "execute_result"
    }
   ],
   "source": [
    "baseline_accuracy = (df.survived == df.baseline_prediction).mean()\n",
    "baseline_accuracy"
   ]
  },
  {
   "cell_type": "code",
   "execution_count": 34,
   "id": "768ef51f",
   "metadata": {},
   "outputs": [
    {
     "data": {
      "text/html": [
       "<div>\n",
       "<style scoped>\n",
       "    .dataframe tbody tr th:only-of-type {\n",
       "        vertical-align: middle;\n",
       "    }\n",
       "\n",
       "    .dataframe tbody tr th {\n",
       "        vertical-align: top;\n",
       "    }\n",
       "\n",
       "    .dataframe thead th {\n",
       "        text-align: right;\n",
       "    }\n",
       "</style>\n",
       "<table border=\"1\" class=\"dataframe\">\n",
       "  <thead>\n",
       "    <tr style=\"text-align: right;\">\n",
       "      <th></th>\n",
       "      <th>precision</th>\n",
       "      <th>recall</th>\n",
       "      <th>f1-score</th>\n",
       "      <th>support</th>\n",
       "    </tr>\n",
       "  </thead>\n",
       "  <tbody>\n",
       "    <tr>\n",
       "      <th>1</th>\n",
       "      <td>0.000000</td>\n",
       "      <td>0.000000</td>\n",
       "      <td>0.000000</td>\n",
       "      <td>342.000000</td>\n",
       "    </tr>\n",
       "    <tr>\n",
       "      <th>0</th>\n",
       "      <td>0.616162</td>\n",
       "      <td>1.000000</td>\n",
       "      <td>0.762500</td>\n",
       "      <td>549.000000</td>\n",
       "    </tr>\n",
       "    <tr>\n",
       "      <th>accuracy</th>\n",
       "      <td>0.616162</td>\n",
       "      <td>0.616162</td>\n",
       "      <td>0.616162</td>\n",
       "      <td>0.616162</td>\n",
       "    </tr>\n",
       "    <tr>\n",
       "      <th>macro avg</th>\n",
       "      <td>0.308081</td>\n",
       "      <td>0.500000</td>\n",
       "      <td>0.381250</td>\n",
       "      <td>891.000000</td>\n",
       "    </tr>\n",
       "    <tr>\n",
       "      <th>weighted avg</th>\n",
       "      <td>0.379655</td>\n",
       "      <td>0.616162</td>\n",
       "      <td>0.469823</td>\n",
       "      <td>891.000000</td>\n",
       "    </tr>\n",
       "  </tbody>\n",
       "</table>\n",
       "</div>"
      ],
      "text/plain": [
       "              precision    recall  f1-score     support\n",
       "1              0.000000  0.000000  0.000000  342.000000\n",
       "0              0.616162  1.000000  0.762500  549.000000\n",
       "accuracy       0.616162  0.616162  0.616162    0.616162\n",
       "macro avg      0.308081  0.500000  0.381250  891.000000\n",
       "weighted avg   0.379655  0.616162  0.469823  891.000000"
      ]
     },
     "execution_count": 34,
     "metadata": {},
     "output_type": "execute_result"
    }
   ],
   "source": [
    "x = classification_report(df.survived, df.baseline_prediction,\n",
    "                         labels = [1,0],\n",
    "                         output_dict = True)\n",
    "pd.DataFrame(x).T"
   ]
  },
  {
   "cell_type": "markdown",
   "id": "a0edf1fc",
   "metadata": {},
   "source": [
    "### 2. Fit the decision tree classifier to your training sample and transform"
   ]
  },
  {
   "cell_type": "code",
   "execution_count": 8,
   "id": "65bd9db2",
   "metadata": {},
   "outputs": [],
   "source": [
    "df = df.astype(str)"
   ]
  },
  {
   "cell_type": "code",
   "execution_count": 38,
   "id": "74a839ae",
   "metadata": {},
   "outputs": [
    {
     "data": {
      "text/plain": [
       "Index(['passenger_id', 'survived', 'pclass', 'sex', 'sibsp', 'parch', 'fare',\n",
       "       'embark_town', 'alone', 'sex_male', 'embark_town_Queenstown',\n",
       "       'embark_town_Southampton', 'second_class', 'third_class',\n",
       "       'baseline_prediction'],\n",
       "      dtype='object')"
      ]
     },
     "execution_count": 38,
     "metadata": {},
     "output_type": "execute_result"
    }
   ],
   "source": [
    "df.columns"
   ]
  },
  {
   "cell_type": "code",
   "execution_count": 9,
   "id": "3f78dfc6",
   "metadata": {},
   "outputs": [],
   "source": [
    "X = df[['second_class','third_class','sex_male','embark_town_Queenstown','embark_town_Southampton','fare']]\n",
    "y = df.survived\n",
    "\n",
    "X_train_and_validate, X_test, y_train_and_validate, y_test = train_test_split(X, y, random_state=123, test_size=.3)\n",
    "X_train, X_validate, y_train, y_validate = train_test_split(X_train_and_validate, y_train_and_validate, random_state=123, test_size=.2)"
   ]
  },
  {
   "cell_type": "code",
   "execution_count": 13,
   "id": "60529a76",
   "metadata": {},
   "outputs": [
    {
     "name": "stdout",
     "output_type": "stream",
     "text": [
      "<class 'pandas.core.frame.DataFrame'>\n",
      "Int64Index: 891 entries, 0 to 890\n",
      "Data columns (total 6 columns):\n",
      " #   Column                   Non-Null Count  Dtype \n",
      "---  ------                   --------------  ----- \n",
      " 0   second_class             891 non-null    object\n",
      " 1   third_class              891 non-null    object\n",
      " 2   sex_male                 891 non-null    object\n",
      " 3   embark_town_Queenstown   891 non-null    object\n",
      " 4   embark_town_Southampton  891 non-null    object\n",
      " 5   fare                     891 non-null    object\n",
      "dtypes: object(6)\n",
      "memory usage: 48.7+ KB\n"
     ]
    }
   ],
   "source": [
    "X.info()"
   ]
  },
  {
   "cell_type": "code",
   "execution_count": 14,
   "id": "73cf8037",
   "metadata": {},
   "outputs": [
    {
     "data": {
      "text/html": [
       "<div>\n",
       "<style scoped>\n",
       "    .dataframe tbody tr th:only-of-type {\n",
       "        vertical-align: middle;\n",
       "    }\n",
       "\n",
       "    .dataframe tbody tr th {\n",
       "        vertical-align: top;\n",
       "    }\n",
       "\n",
       "    .dataframe thead th {\n",
       "        text-align: right;\n",
       "    }\n",
       "</style>\n",
       "<table border=\"1\" class=\"dataframe\">\n",
       "  <thead>\n",
       "    <tr style=\"text-align: right;\">\n",
       "      <th></th>\n",
       "      <th>second_class</th>\n",
       "      <th>third_class</th>\n",
       "      <th>sex_male</th>\n",
       "      <th>embark_town_Queenstown</th>\n",
       "      <th>embark_town_Southampton</th>\n",
       "      <th>fare</th>\n",
       "    </tr>\n",
       "  </thead>\n",
       "  <tbody>\n",
       "    <tr>\n",
       "      <th>456</th>\n",
       "      <td>0</td>\n",
       "      <td>0</td>\n",
       "      <td>1</td>\n",
       "      <td>0</td>\n",
       "      <td>1</td>\n",
       "      <td>26.55</td>\n",
       "    </tr>\n",
       "    <tr>\n",
       "      <th>8</th>\n",
       "      <td>0</td>\n",
       "      <td>1</td>\n",
       "      <td>0</td>\n",
       "      <td>0</td>\n",
       "      <td>1</td>\n",
       "      <td>11.1333</td>\n",
       "    </tr>\n",
       "    <tr>\n",
       "      <th>19</th>\n",
       "      <td>0</td>\n",
       "      <td>1</td>\n",
       "      <td>0</td>\n",
       "      <td>0</td>\n",
       "      <td>0</td>\n",
       "      <td>7.225</td>\n",
       "    </tr>\n",
       "    <tr>\n",
       "      <th>95</th>\n",
       "      <td>0</td>\n",
       "      <td>1</td>\n",
       "      <td>1</td>\n",
       "      <td>0</td>\n",
       "      <td>1</td>\n",
       "      <td>8.05</td>\n",
       "    </tr>\n",
       "    <tr>\n",
       "      <th>86</th>\n",
       "      <td>0</td>\n",
       "      <td>1</td>\n",
       "      <td>1</td>\n",
       "      <td>0</td>\n",
       "      <td>1</td>\n",
       "      <td>34.375</td>\n",
       "    </tr>\n",
       "  </tbody>\n",
       "</table>\n",
       "</div>"
      ],
      "text/plain": [
       "    second_class third_class sex_male embark_town_Queenstown  \\\n",
       "456            0           0        1                      0   \n",
       "8              0           1        0                      0   \n",
       "19             0           1        0                      0   \n",
       "95             0           1        1                      0   \n",
       "86             0           1        1                      0   \n",
       "\n",
       "    embark_town_Southampton     fare  \n",
       "456                       1    26.55  \n",
       "8                         1  11.1333  \n",
       "19                        0    7.225  \n",
       "95                        1     8.05  \n",
       "86                        1   34.375  "
      ]
     },
     "execution_count": 14,
     "metadata": {},
     "output_type": "execute_result"
    }
   ],
   "source": [
    "X_train.head()"
   ]
  },
  {
   "cell_type": "code",
   "execution_count": 15,
   "id": "90b8d872",
   "metadata": {},
   "outputs": [
    {
     "data": {
      "text/plain": [
       "456    0\n",
       "8      1\n",
       "19     1\n",
       "95     0\n",
       "86     0\n",
       "Name: survived, dtype: object"
      ]
     },
     "execution_count": 15,
     "metadata": {},
     "output_type": "execute_result"
    }
   ],
   "source": [
    "y_train[:5]"
   ]
  },
  {
   "cell_type": "code",
   "execution_count": 43,
   "id": "92cfd39b",
   "metadata": {},
   "outputs": [
    {
     "data": {
      "text/plain": [
       "0    298\n",
       "1    200\n",
       "Name: survived, dtype: int64"
      ]
     },
     "execution_count": 43,
     "metadata": {},
     "output_type": "execute_result"
    }
   ],
   "source": [
    "y_train.value_counts()"
   ]
  },
  {
   "cell_type": "code",
   "execution_count": 44,
   "id": "574bbefc",
   "metadata": {},
   "outputs": [],
   "source": [
    "# step 1: Creat your recipe\n",
    "\n",
    "tree = DecisionTreeClassifier(max_depth = 3)"
   ]
  },
  {
   "cell_type": "code",
   "execution_count": 45,
   "id": "1b197397",
   "metadata": {
    "scrolled": true
   },
   "outputs": [
    {
     "name": "stdout",
     "output_type": "stream",
     "text": [
      "|--- sex_male <= 0.50\n",
      "|   |--- third_class <= 0.50\n",
      "|   |   |--- fare <= 26.12\n",
      "|   |   |   |--- class: 1\n",
      "|   |   |--- fare >  26.12\n",
      "|   |   |   |--- class: 1\n",
      "|   |--- third_class >  0.50\n",
      "|   |   |--- fare <= 24.81\n",
      "|   |   |   |--- class: 1\n",
      "|   |   |--- fare >  24.81\n",
      "|   |   |   |--- class: 0\n",
      "|--- sex_male >  0.50\n",
      "|   |--- fare <= 26.27\n",
      "|   |   |--- fare <= 7.91\n",
      "|   |   |   |--- class: 0\n",
      "|   |   |--- fare >  7.91\n",
      "|   |   |   |--- class: 0\n",
      "|   |--- fare >  26.27\n",
      "|   |   |--- second_class <= 0.50\n",
      "|   |   |   |--- class: 0\n",
      "|   |   |--- second_class >  0.50\n",
      "|   |   |   |--- class: 0\n",
      "\n"
     ]
    }
   ],
   "source": [
    "# Step 2: Fit your model to your in-sample data (train)\n",
    "\n",
    "tree.fit(X_train, y_train)\n",
    "\n",
    "# Rudimentary visualization of model structure\n",
    "print(export_text(tree, feature_names=X_train.columns.tolist()))"
   ]
  },
  {
   "cell_type": "code",
   "execution_count": 46,
   "id": "54f417f7",
   "metadata": {},
   "outputs": [
    {
     "data": {
      "image/png": "[encoded data removed]",
      "text/plain": [
       "<Figure size 864x504 with 1 Axes>"
      ]
     },
     "metadata": {
      "needs_background": "light"
     },
     "output_type": "display_data"
    }
   ],
   "source": [
    "# Visualize the tree\n",
    "plt.figure(figsize=(12, 7))\n",
    "plot_tree(tree, feature_names=X_train.columns, class_names=y_train.unique())\n",
    "plt.show()"
   ]
  },
  {
   "cell_type": "markdown",
   "id": "997ef9dd",
   "metadata": {},
   "source": [
    "### 3. Evaluate your in-sample results using the model score, confusion matrix, and classification report."
   ]
  },
  {
   "cell_type": "code",
   "execution_count": 47,
   "id": "097fc6ba",
   "metadata": {},
   "outputs": [
    {
     "data": {
      "text/plain": [
       "array(['0', '1', '1', '0', '0', '0', '0', '1', '1', '0', '0', '0', '0',\n",
       "       '0', '0', '0', '0', '0', '0', '0', '1', '1', '1', '0', '1', '0',\n",
       "       '0', '0', '0', '1', '0', '1', '1', '0', '0', '0', '0', '0', '0',\n",
       "       '1', '0', '0', '0', '0', '0', '0', '0', '0', '0', '0', '1', '0',\n",
       "       '1', '0', '1', '0', '0', '0', '1', '0', '0', '1', '0', '0', '0',\n",
       "       '0', '1', '1', '0', '1', '0', '0', '0', '0', '0', '1', '1', '0',\n",
       "       '0', '1', '0', '0', '1', '0', '0', '0', '1', '1', '0', '0', '0',\n",
       "       '0', '0', '0', '0', '1', '0', '1', '0', '0', '0', '0', '0', '0',\n",
       "       '0', '0', '0', '0', '1', '1', '0', '0', '1', '0', '1', '0', '0',\n",
       "       '0', '0', '0', '0', '0', '0', '0', '1', '1', '1', '1', '1', '0',\n",
       "       '1', '1', '1', '1', '0', '1', '1', '0', '0', '0', '0', '0', '0',\n",
       "       '0', '0', '1', '0', '0', '0', '1', '1', '0', '1', '0', '1', '0',\n",
       "       '0', '0', '0', '1', '1', '0', '1', '0', '0', '1', '0', '1', '1',\n",
       "       '1', '1', '1', '0', '0', '1', '1', '1', '0', '0', '0', '1', '0',\n",
       "       '1', '0', '0', '0', '0', '0', '0', '0', '0', '1', '0', '0', '0',\n",
       "       '0', '1', '1', '1', '1', '0', '1', '0', '0', '0', '1', '0', '0',\n",
       "       '1', '1', '0', '0', '0', '0', '0', '0', '0', '1', '1', '1', '0',\n",
       "       '1', '1', '0', '0', '0', '1', '0', '0', '0', '0', '0', '0', '0',\n",
       "       '1', '1', '1', '1', '0', '0', '0', '0', '1', '0', '0', '0', '0',\n",
       "       '1', '0', '0', '0', '0', '0', '0', '0', '0', '0', '1', '0', '0',\n",
       "       '0', '1', '0', '1', '1', '0', '1', '0', '0', '0', '0', '1', '1',\n",
       "       '1', '0', '0', '1', '1', '1', '0', '0', '0', '0', '1', '0', '0',\n",
       "       '0', '0', '0', '1', '0', '0', '0', '0', '0', '0', '0', '1', '0',\n",
       "       '0', '0', '1', '0', '1', '0', '0', '0', '0', '0', '0', '0', '0',\n",
       "       '0', '0', '0', '0', '1', '1', '1', '0', '1', '0', '1', '1', '1',\n",
       "       '0', '0', '1', '1', '0', '0', '0', '0', '0', '0', '1', '0', '0',\n",
       "       '1', '0', '0', '1', '0', '0', '1', '0', '0', '1', '0', '0', '0',\n",
       "       '1', '0', '1', '0', '0', '1', '1', '0', '0', '0', '1', '0', '0',\n",
       "       '0', '1', '0', '1', '0', '1', '0', '1', '0', '1', '0', '0', '1',\n",
       "       '0', '0', '1', '1', '0', '0', '1', '0', '0', '1', '0', '1', '1',\n",
       "       '0', '0', '1', '0', '0', '1', '0', '0', '1', '0', '0', '0', '0',\n",
       "       '1', '1', '0', '0', '0', '0', '0', '0', '0', '0', '0', '0', '1',\n",
       "       '1', '0', '0', '1', '0', '0', '1', '1', '0', '1', '0', '1', '0',\n",
       "       '0', '1', '0', '1', '0', '0', '0', '1', '0', '1', '0', '0', '0',\n",
       "       '0', '0', '0', '0', '0', '0', '1', '1', '1', '0', '1', '1', '1',\n",
       "       '0', '0', '0', '0', '1', '0', '0', '0', '0', '0', '0', '0', '0',\n",
       "       '1', '1', '0', '0', '0', '1', '0', '0', '0', '0', '0', '0', '0',\n",
       "       '0', '1', '0', '0', '0', '0', '0', '1', '0', '0', '1', '1', '0',\n",
       "       '0', '0', '1', '0'], dtype=object)"
      ]
     },
     "execution_count": 47,
     "metadata": {},
     "output_type": "execute_result"
    }
   ],
   "source": [
    "# Step 3: Use your model to make predictions on the in-sample data\n",
    "tree.predict(X_train)"
   ]
  },
  {
   "cell_type": "code",
   "execution_count": 48,
   "id": "88ad81df",
   "metadata": {},
   "outputs": [],
   "source": [
    "predictions = tree.predict(X_train)\n",
    "actual = y_train"
   ]
  },
  {
   "cell_type": "code",
   "execution_count": 49,
   "id": "da0a3739",
   "metadata": {},
   "outputs": [
    {
     "data": {
      "text/html": [
       "<div>\n",
       "<style scoped>\n",
       "    .dataframe tbody tr th:only-of-type {\n",
       "        vertical-align: middle;\n",
       "    }\n",
       "\n",
       "    .dataframe tbody tr th {\n",
       "        vertical-align: top;\n",
       "    }\n",
       "\n",
       "    .dataframe thead th {\n",
       "        text-align: right;\n",
       "    }\n",
       "</style>\n",
       "<table border=\"1\" class=\"dataframe\">\n",
       "  <thead>\n",
       "    <tr style=\"text-align: right;\">\n",
       "      <th>col_0</th>\n",
       "      <th>0</th>\n",
       "      <th>1</th>\n",
       "    </tr>\n",
       "    <tr>\n",
       "      <th>survived</th>\n",
       "      <th></th>\n",
       "      <th></th>\n",
       "    </tr>\n",
       "  </thead>\n",
       "  <tbody>\n",
       "    <tr>\n",
       "      <th>0</th>\n",
       "      <td>269</td>\n",
       "      <td>29</td>\n",
       "    </tr>\n",
       "    <tr>\n",
       "      <th>1</th>\n",
       "      <td>68</td>\n",
       "      <td>132</td>\n",
       "    </tr>\n",
       "  </tbody>\n",
       "</table>\n",
       "</div>"
      ],
      "text/plain": [
       "col_0       0    1\n",
       "survived          \n",
       "0         269   29\n",
       "1          68  132"
      ]
     },
     "execution_count": 49,
     "metadata": {},
     "output_type": "execute_result"
    }
   ],
   "source": [
    "# Step 4: Evaluate your predictions\n",
    "pd.crosstab(actual, predictions)"
   ]
  },
  {
   "cell_type": "code",
   "execution_count": 50,
   "id": "906a3cf9",
   "metadata": {},
   "outputs": [
    {
     "data": {
      "text/plain": [
       "array([[269,  29],\n",
       "       [ 68, 132]])"
      ]
     },
     "execution_count": 50,
     "metadata": {},
     "output_type": "execute_result"
    }
   ],
   "source": [
    "confusion_matrix(actual, predictions)"
   ]
  },
  {
   "cell_type": "code",
   "execution_count": 51,
   "id": "205542c8",
   "metadata": {},
   "outputs": [
    {
     "data": {
      "text/plain": [
       "<sklearn.metrics._plot.confusion_matrix.ConfusionMatrixDisplay at 0x7f7c1f6902e0>"
      ]
     },
     "execution_count": 51,
     "metadata": {},
     "output_type": "execute_result"
    },
    {
     "data": {
      "image/png": "[encoded data removed]",
      "text/plain": [
       "<Figure size 432x288 with 2 Axes>"
      ]
     },
     "metadata": {
      "needs_background": "light"
     },
     "output_type": "display_data"
    }
   ],
   "source": [
    "plot_confusion_matrix(tree, X_train, y_train, display_labels=['lose', 'servived'])"
   ]
  },
  {
   "cell_type": "code",
   "execution_count": 52,
   "id": "207de106",
   "metadata": {},
   "outputs": [
    {
     "name": "stdout",
     "output_type": "stream",
     "text": [
      "              precision    recall  f1-score   support\n",
      "\n",
      "           0       0.80      0.90      0.85       298\n",
      "           1       0.82      0.66      0.73       200\n",
      "\n",
      "    accuracy                           0.81       498\n",
      "   macro avg       0.81      0.78      0.79       498\n",
      "weighted avg       0.81      0.81      0.80       498\n",
      "\n"
     ]
    }
   ],
   "source": [
    "print(classification_report(actual, predictions))"
   ]
  },
  {
   "cell_type": "markdown",
   "id": "a3936855",
   "metadata": {},
   "source": [
    "### 4. Compute: Accuracy, true positive rate, false positive rate, true negative rate, false negative rate, precision, recall, f1-score, and support."
   ]
  },
  {
   "cell_type": "code",
   "execution_count": 53,
   "id": "c5059a03",
   "metadata": {},
   "outputs": [
    {
     "name": "stdout",
     "output_type": "stream",
     "text": [
      "              precision    recall  f1-score   support\n",
      "\n",
      "           0       0.84      0.83      0.83        81\n",
      "           1       0.69      0.70      0.70        44\n",
      "\n",
      "    accuracy                           0.78       125\n",
      "   macro avg       0.76      0.77      0.76       125\n",
      "weighted avg       0.79      0.78      0.78       125\n",
      "\n"
     ]
    }
   ],
   "source": [
    "# Step 5: Use best n models on out-of-sample data (validate)\n",
    "\n",
    "predictions = tree.predict(X_validate)\n",
    "actual = y_validate\n",
    "\n",
    "print(classification_report(actual, predictions))"
   ]
  },
  {
   "cell_type": "code",
   "execution_count": 54,
   "id": "a8a4d428",
   "metadata": {},
   "outputs": [
    {
     "name": "stdout",
     "output_type": "stream",
     "text": [
      "              precision    recall  f1-score   support\n",
      "\n",
      "           0       0.84      0.90      0.87       170\n",
      "           1       0.80      0.69      0.74        98\n",
      "\n",
      "    accuracy                           0.82       268\n",
      "   macro avg       0.82      0.80      0.81       268\n",
      "weighted avg       0.82      0.82      0.82       268\n",
      "\n"
     ]
    }
   ],
   "source": [
    "# Step 6: Use single best model to make predictions from out-of-sample data (test)\n",
    "\n",
    "predictions = tree.predict(X_test)\n",
    "actual = y_test\n",
    "\n",
    "print(classification_report(actual, predictions))"
   ]
  },
  {
   "cell_type": "markdown",
   "id": "26ce3e43",
   "metadata": {},
   "source": [
    "### 5. Run through steps 2-4 using a different max_depth value."
   ]
  },
  {
   "cell_type": "code",
   "execution_count": 55,
   "id": "aa62d45b",
   "metadata": {},
   "outputs": [
    {
     "name": "stdout",
     "output_type": "stream",
     "text": [
      "|--- sex_male <= 0.50\n",
      "|   |--- third_class <= 0.50\n",
      "|   |   |--- fare <= 26.12\n",
      "|   |   |   |--- fare <= 13.43\n",
      "|   |   |   |   |--- embark_town_Queenstown <= 0.50\n",
      "|   |   |   |   |   |--- fare <= 11.75\n",
      "|   |   |   |   |   |   |--- class: 1\n",
      "|   |   |   |   |   |--- fare >  11.75\n",
      "|   |   |   |   |   |   |--- class: 1\n",
      "|   |   |   |   |--- embark_town_Queenstown >  0.50\n",
      "|   |   |   |   |   |--- class: 1\n",
      "|   |   |   |--- fare >  13.43\n",
      "|   |   |   |   |--- fare <= 25.00\n",
      "|   |   |   |   |   |--- class: 1\n",
      "|   |   |   |   |--- fare >  25.00\n",
      "|   |   |   |   |   |--- class: 1\n",
      "|   |   |--- fare >  26.12\n",
      "|   |   |   |--- class: 1\n",
      "|   |--- third_class >  0.50\n",
      "|   |   |--- fare <= 24.81\n",
      "|   |   |   |--- fare <= 6.99\n",
      "|   |   |   |   |--- class: 0\n",
      "|   |   |   |--- fare >  6.99\n",
      "|   |   |   |   |--- fare <= 7.52\n",
      "|   |   |   |   |   |--- class: 1\n",
      "|   |   |   |   |--- fare >  7.52\n",
      "|   |   |   |   |   |--- embark_town_Queenstown <= 0.50\n",
      "|   |   |   |   |   |   |--- fare <= 23.25\n",
      "|   |   |   |   |   |   |   |--- fare <= 21.55\n",
      "|   |   |   |   |   |   |   |   |--- fare <= 17.25\n",
      "|   |   |   |   |   |   |   |   |   |--- fare <= 15.55\n",
      "|   |   |   |   |   |   |   |   |   |   |--- class: 1\n",
      "|   |   |   |   |   |   |   |   |   |--- fare >  15.55\n",
      "|   |   |   |   |   |   |   |   |   |   |--- class: 1\n",
      "|   |   |   |   |   |   |   |   |--- fare >  17.25\n",
      "|   |   |   |   |   |   |   |   |   |--- embark_town_Southampton <= 0.50\n",
      "|   |   |   |   |   |   |   |   |   |   |--- class: 1\n",
      "|   |   |   |   |   |   |   |   |   |--- embark_town_Southampton >  0.50\n",
      "|   |   |   |   |   |   |   |   |   |   |--- class: 0\n",
      "|   |   |   |   |   |   |   |--- fare >  21.55\n",
      "|   |   |   |   |   |   |   |   |--- class: 1\n",
      "|   |   |   |   |   |   |--- fare >  23.25\n",
      "|   |   |   |   |   |   |   |--- class: 0\n",
      "|   |   |   |   |   |--- embark_town_Queenstown >  0.50\n",
      "|   |   |   |   |   |   |--- fare <= 7.68\n",
      "|   |   |   |   |   |   |   |--- class: 0\n",
      "|   |   |   |   |   |   |--- fare >  7.68\n",
      "|   |   |   |   |   |   |   |--- fare <= 19.38\n",
      "|   |   |   |   |   |   |   |   |--- fare <= 8.01\n",
      "|   |   |   |   |   |   |   |   |   |--- fare <= 7.81\n",
      "|   |   |   |   |   |   |   |   |   |   |--- class: 1\n",
      "|   |   |   |   |   |   |   |   |   |--- fare >  7.81\n",
      "|   |   |   |   |   |   |   |   |   |   |--- class: 1\n",
      "|   |   |   |   |   |   |   |   |--- fare >  8.01\n",
      "|   |   |   |   |   |   |   |   |   |--- fare <= 11.82\n",
      "|   |   |   |   |   |   |   |   |   |   |--- class: 0\n",
      "|   |   |   |   |   |   |   |   |   |--- fare >  11.82\n",
      "|   |   |   |   |   |   |   |   |   |   |--- class: 1\n",
      "|   |   |   |   |   |   |   |--- fare >  19.38\n",
      "|   |   |   |   |   |   |   |   |--- class: 1\n",
      "|   |   |--- fare >  24.81\n",
      "|   |   |   |--- class: 0\n",
      "|--- sex_male >  0.50\n",
      "|   |--- fare <= 26.27\n",
      "|   |   |--- fare <= 7.91\n",
      "|   |   |   |--- embark_town_Southampton <= 0.50\n",
      "|   |   |   |   |--- embark_town_Queenstown <= 0.50\n",
      "|   |   |   |   |   |--- fare <= 5.62\n",
      "|   |   |   |   |   |   |--- class: 0\n",
      "|   |   |   |   |   |--- fare >  5.62\n",
      "|   |   |   |   |   |   |--- fare <= 7.56\n",
      "|   |   |   |   |   |   |   |--- fare <= 7.23\n",
      "|   |   |   |   |   |   |   |   |--- class: 0\n",
      "|   |   |   |   |   |   |   |--- fare >  7.23\n",
      "|   |   |   |   |   |   |   |   |--- class: 0\n",
      "|   |   |   |   |   |   |--- fare >  7.56\n",
      "|   |   |   |   |   |   |   |--- class: 0\n",
      "|   |   |   |   |--- embark_town_Queenstown >  0.50\n",
      "|   |   |   |   |   |--- fare <= 7.74\n",
      "|   |   |   |   |   |   |--- class: 0\n",
      "|   |   |   |   |   |--- fare >  7.74\n",
      "|   |   |   |   |   |   |--- class: 0\n",
      "|   |   |   |--- embark_town_Southampton >  0.50\n",
      "|   |   |   |   |--- fare <= 7.80\n",
      "|   |   |   |   |   |--- fare <= 7.79\n",
      "|   |   |   |   |   |   |--- fare <= 7.20\n",
      "|   |   |   |   |   |   |   |--- fare <= 7.13\n",
      "|   |   |   |   |   |   |   |   |--- fare <= 2.50\n",
      "|   |   |   |   |   |   |   |   |   |--- third_class <= 0.50\n",
      "|   |   |   |   |   |   |   |   |   |   |--- class: 0\n",
      "|   |   |   |   |   |   |   |   |   |--- third_class >  0.50\n",
      "|   |   |   |   |   |   |   |   |   |   |--- class: 0\n",
      "|   |   |   |   |   |   |   |   |--- fare >  2.50\n",
      "|   |   |   |   |   |   |   |   |   |--- class: 0\n",
      "|   |   |   |   |   |   |   |--- fare >  7.13\n",
      "|   |   |   |   |   |   |   |   |--- class: 1\n",
      "|   |   |   |   |   |   |--- fare >  7.20\n",
      "|   |   |   |   |   |   |   |--- class: 0\n",
      "|   |   |   |   |   |--- fare >  7.79\n",
      "|   |   |   |   |   |   |--- class: 0\n",
      "|   |   |   |   |--- fare >  7.80\n",
      "|   |   |   |   |   |--- class: 0\n",
      "|   |   |--- fare >  7.91\n",
      "|   |   |   |--- embark_town_Southampton <= 0.50\n",
      "|   |   |   |   |--- fare <= 12.06\n",
      "|   |   |   |   |   |--- class: 1\n",
      "|   |   |   |   |--- fare >  12.06\n",
      "|   |   |   |   |   |--- fare <= 15.62\n",
      "|   |   |   |   |   |   |--- fare <= 15.15\n",
      "|   |   |   |   |   |   |   |--- class: 0\n",
      "|   |   |   |   |   |   |--- fare >  15.15\n",
      "|   |   |   |   |   |   |   |--- embark_town_Queenstown <= 0.50\n",
      "|   |   |   |   |   |   |   |   |--- class: 1\n",
      "|   |   |   |   |   |   |   |--- embark_town_Queenstown >  0.50\n",
      "|   |   |   |   |   |   |   |   |--- class: 0\n",
      "|   |   |   |   |   |--- fare >  15.62\n",
      "|   |   |   |   |   |   |--- fare <= 23.70\n",
      "|   |   |   |   |   |   |   |--- class: 1\n",
      "|   |   |   |   |   |   |--- fare >  23.70\n",
      "|   |   |   |   |   |   |   |--- class: 0\n",
      "|   |   |   |--- embark_town_Southampton >  0.50\n",
      "|   |   |   |   |--- fare <= 7.99\n",
      "|   |   |   |   |   |--- class: 0\n",
      "|   |   |   |   |--- fare >  7.99\n",
      "|   |   |   |   |   |--- fare <= 10.82\n",
      "|   |   |   |   |   |   |--- fare <= 9.67\n",
      "|   |   |   |   |   |   |   |--- fare <= 9.43\n",
      "|   |   |   |   |   |   |   |   |--- fare <= 8.18\n",
      "|   |   |   |   |   |   |   |   |   |--- class: 0\n",
      "|   |   |   |   |   |   |   |   |--- fare >  8.18\n",
      "|   |   |   |   |   |   |   |   |   |--- class: 0\n",
      "|   |   |   |   |   |   |   |--- fare >  9.43\n",
      "|   |   |   |   |   |   |   |   |--- class: 0\n",
      "|   |   |   |   |   |   |--- fare >  9.67\n",
      "|   |   |   |   |   |   |   |--- second_class <= 0.50\n",
      "|   |   |   |   |   |   |   |   |--- class: 0\n",
      "|   |   |   |   |   |   |   |--- second_class >  0.50\n",
      "|   |   |   |   |   |   |   |   |--- class: 0\n",
      "|   |   |   |   |   |--- fare >  10.82\n",
      "|   |   |   |   |   |   |--- fare <= 11.32\n",
      "|   |   |   |   |   |   |   |--- class: 1\n",
      "|   |   |   |   |   |   |--- fare >  11.32\n",
      "|   |   |   |   |   |   |   |--- fare <= 20.55\n",
      "|   |   |   |   |   |   |   |   |--- fare <= 20.39\n",
      "|   |   |   |   |   |   |   |   |   |--- third_class <= 0.50\n",
      "|   |   |   |   |   |   |   |   |   |   |--- class: 0\n",
      "|   |   |   |   |   |   |   |   |   |--- third_class >  0.50\n",
      "|   |   |   |   |   |   |   |   |   |   |--- class: 0\n",
      "|   |   |   |   |   |   |   |   |--- fare >  20.39\n",
      "|   |   |   |   |   |   |   |   |   |--- class: 1\n",
      "|   |   |   |   |   |   |   |--- fare >  20.55\n",
      "|   |   |   |   |   |   |   |   |--- fare <= 25.96\n",
      "|   |   |   |   |   |   |   |   |   |--- class: 0\n",
      "|   |   |   |   |   |   |   |   |--- fare >  25.96\n",
      "|   |   |   |   |   |   |   |   |   |--- second_class <= 0.50\n",
      "|   |   |   |   |   |   |   |   |   |   |--- class: 0\n",
      "|   |   |   |   |   |   |   |   |   |--- second_class >  0.50\n",
      "|   |   |   |   |   |   |   |   |   |   |--- class: 0\n",
      "|   |--- fare >  26.27\n",
      "|   |   |--- second_class <= 0.50\n",
      "|   |   |   |--- fare <= 26.47\n",
      "|   |   |   |   |--- class: 1\n",
      "|   |   |   |--- fare >  26.47\n",
      "|   |   |   |   |--- fare <= 387.66\n",
      "|   |   |   |   |   |--- fare <= 152.51\n",
      "|   |   |   |   |   |   |--- third_class <= 0.50\n",
      "|   |   |   |   |   |   |   |--- fare <= 115.44\n",
      "|   |   |   |   |   |   |   |   |--- fare <= 30.60\n",
      "|   |   |   |   |   |   |   |   |   |--- fare <= 30.25\n",
      "|   |   |   |   |   |   |   |   |   |   |--- class: 0\n",
      "|   |   |   |   |   |   |   |   |   |--- fare >  30.25\n",
      "|   |   |   |   |   |   |   |   |   |   |--- class: 1\n",
      "|   |   |   |   |   |   |   |   |--- fare >  30.60\n",
      "|   |   |   |   |   |   |   |   |   |--- fare <= 34.76\n",
      "|   |   |   |   |   |   |   |   |   |   |--- class: 0\n",
      "|   |   |   |   |   |   |   |   |   |--- fare >  34.76\n",
      "|   |   |   |   |   |   |   |   |   |   |--- class: 0\n",
      "|   |   |   |   |   |   |   |--- fare >  115.44\n",
      "|   |   |   |   |   |   |   |   |--- class: 1\n",
      "|   |   |   |   |   |   |--- third_class >  0.50\n",
      "|   |   |   |   |   |   |   |--- fare <= 51.70\n",
      "|   |   |   |   |   |   |   |   |--- class: 0\n",
      "|   |   |   |   |   |   |   |--- fare >  51.70\n",
      "|   |   |   |   |   |   |   |   |--- fare <= 63.02\n",
      "|   |   |   |   |   |   |   |   |   |--- class: 1\n",
      "|   |   |   |   |   |   |   |   |--- fare >  63.02\n",
      "|   |   |   |   |   |   |   |   |   |--- class: 0\n",
      "|   |   |   |   |   |--- fare >  152.51\n",
      "|   |   |   |   |   |   |--- class: 0\n",
      "|   |   |   |   |--- fare >  387.66\n",
      "|   |   |   |   |   |--- class: 1\n",
      "|   |   |--- second_class >  0.50\n",
      "|   |   |   |--- class: 0\n",
      "\n"
     ]
    }
   ],
   "source": [
    "# this time set up max_depth as 10\n",
    "\n",
    "tree_1 = DecisionTreeClassifier(max_depth = 10)\n",
    "\n",
    "tree_1.fit(X_train, y_train)\n",
    "\n",
    "print(export_text(tree_1, feature_names=X_train.columns.tolist()))"
   ]
  },
  {
   "cell_type": "code",
   "execution_count": 56,
   "id": "50cc29a8",
   "metadata": {},
   "outputs": [
    {
     "data": {
      "image/png": "[encoded data removed]",
      "text/plain": [
       "<Figure size 1440x1296 with 1 Axes>"
      ]
     },
     "metadata": {
      "needs_background": "light"
     },
     "output_type": "display_data"
    }
   ],
   "source": [
    "plt.figure(figsize=(20,18))\n",
    "plot_tree(tree_1, feature_names=X_train.columns, class_names=y_train.unique())\n",
    "plt.show()"
   ]
  },
  {
   "cell_type": "code",
   "execution_count": 57,
   "id": "7dd47b41",
   "metadata": {},
   "outputs": [],
   "source": [
    "predictions = tree_1.predict(X_train)\n",
    "actual = y_train"
   ]
  },
  {
   "cell_type": "code",
   "execution_count": 58,
   "id": "e0f392cd",
   "metadata": {},
   "outputs": [
    {
     "name": "stdout",
     "output_type": "stream",
     "text": [
      "              precision    recall  f1-score   support\n",
      "\n",
      "           0       0.85      0.92      0.89       298\n",
      "           1       0.87      0.77      0.81       200\n",
      "\n",
      "    accuracy                           0.86       498\n",
      "   macro avg       0.86      0.84      0.85       498\n",
      "weighted avg       0.86      0.86      0.86       498\n",
      "\n"
     ]
    }
   ],
   "source": [
    "# train\n",
    "\n",
    "print(classification_report(actual, predictions))"
   ]
  },
  {
   "cell_type": "code",
   "execution_count": 59,
   "id": "84485a47",
   "metadata": {},
   "outputs": [
    {
     "name": "stdout",
     "output_type": "stream",
     "text": [
      "              precision    recall  f1-score   support\n",
      "\n",
      "           0       0.82      0.81      0.82        81\n",
      "           1       0.67      0.68      0.67        44\n",
      "\n",
      "    accuracy                           0.77       125\n",
      "   macro avg       0.75      0.75      0.75       125\n",
      "weighted avg       0.77      0.77      0.77       125\n",
      "\n"
     ]
    }
   ],
   "source": [
    "# validate\n",
    "\n",
    "predictions = tree_1.predict(X_validate)\n",
    "actual = y_validate\n",
    "\n",
    "print(classification_report(actual, predictions))"
   ]
  },
  {
   "cell_type": "code",
   "execution_count": 60,
   "id": "93c3025a",
   "metadata": {},
   "outputs": [
    {
     "name": "stdout",
     "output_type": "stream",
     "text": [
      "              precision    recall  f1-score   support\n",
      "\n",
      "           0       0.86      0.89      0.87       170\n",
      "           1       0.79      0.74      0.77        98\n",
      "\n",
      "    accuracy                           0.84       268\n",
      "   macro avg       0.83      0.82      0.82       268\n",
      "weighted avg       0.83      0.84      0.83       268\n",
      "\n"
     ]
    }
   ],
   "source": [
    "# test\n",
    "\n",
    "predictions = tree_1.predict(X_test)\n",
    "actual = y_test\n",
    "\n",
    "print(classification_report(actual, predictions))"
   ]
  },
  {
   "cell_type": "markdown",
   "id": "16ac1a39",
   "metadata": {},
   "source": [
    "### 6. Which model performs better on your in-sample data?"
   ]
  },
  {
   "cell_type": "markdown",
   "id": "efab7ead",
   "metadata": {},
   "source": [
    "* Model 1 : depth = 5 ----------- 81%, 78%, 82%\n",
    "* Model 2 : depth = 10----------- 86%, 77%, 84%"
   ]
  },
  {
   "cell_type": "code",
   "execution_count": null,
   "id": "765c1455",
   "metadata": {},
   "outputs": [],
   "source": [
    "# Model 2 performs better on in-sample data"
   ]
  },
  {
   "cell_type": "markdown",
   "id": "270e1791",
   "metadata": {},
   "source": [
    "### 7. Which model performs best on your out-of-sample data, the validate set?"
   ]
  },
  {
   "cell_type": "code",
   "execution_count": null,
   "id": "0709bf5c",
   "metadata": {},
   "outputs": [],
   "source": [
    "# Model 1 performs better on the validate data"
   ]
  },
  {
   "cell_type": "markdown",
   "id": "98cbbc8d",
   "metadata": {},
   "source": [
    "# Review:"
   ]
  },
  {
   "cell_type": "code",
   "execution_count": null,
   "id": "c1f28aa0",
   "metadata": {},
   "outputs": [],
   "source": [
    "# Finding Optimal max_depth --- Run through steps 2-4 using a different max_depth value."
   ]
  },
  {
   "cell_type": "code",
   "execution_count": 88,
   "id": "438d704a",
   "metadata": {},
   "outputs": [
    {
     "name": "stdout",
     "output_type": "stream",
     "text": [
      "Tree with max depth of 1\n",
      "                    0           1  accuracy   macro avg  weighted avg\n",
      "precision    0.790769    0.763006  0.781124    0.776888      0.779619\n",
      "recall       0.862416    0.660000  0.781124    0.761208      0.781124\n",
      "f1-score     0.825040    0.707775  0.781124    0.766407      0.777946\n",
      "support    298.000000  200.000000  0.781124  498.000000    498.000000\n",
      "\n",
      "Tree with max depth of 2\n",
      "                    0           1  accuracy   macro avg  weighted avg\n",
      "precision    0.790769    0.763006  0.781124    0.776888      0.779619\n",
      "recall       0.862416    0.660000  0.781124    0.761208      0.781124\n",
      "f1-score     0.825040    0.707775  0.781124    0.766407      0.777946\n",
      "support    298.000000  200.000000  0.781124  498.000000    498.000000\n",
      "\n",
      "Tree with max depth of 3\n",
      "                    0           1  accuracy   macro avg  weighted avg\n",
      "precision    0.798220    0.819876  0.805221    0.809048      0.806917\n",
      "recall       0.902685    0.660000  0.805221    0.781342      0.805221\n",
      "f1-score     0.847244    0.731302  0.805221    0.789273      0.800681\n",
      "support    298.000000  200.000000  0.805221  498.000000    498.000000\n",
      "\n",
      "Tree with max depth of 4\n",
      "                    0           1  accuracy   macro avg  weighted avg\n",
      "precision    0.805970    0.828221  0.813253    0.817096      0.814906\n",
      "recall       0.906040    0.675000  0.813253    0.790520      0.813253\n",
      "f1-score     0.853081    0.743802  0.813253    0.798441      0.809193\n",
      "support    298.000000  200.000000  0.813253  498.000000    498.000000\n",
      "\n",
      "Tree with max depth of 5\n",
      "                    0           1  accuracy   macro avg  weighted avg\n",
      "precision    0.815710    0.832335  0.821285    0.824023      0.822387\n",
      "recall       0.906040    0.695000  0.821285    0.800520      0.821285\n",
      "f1-score     0.858506    0.757493  0.821285    0.807999      0.817938\n",
      "support    298.000000  200.000000  0.821285  498.000000    498.000000\n",
      "\n",
      "Tree with max depth of 6\n",
      "                    0           1  accuracy   macro avg  weighted avg\n",
      "precision    0.822630    0.830409  0.825301    0.826520      0.825754\n",
      "recall       0.902685    0.710000  0.825301    0.806342      0.825301\n",
      "f1-score     0.860800    0.765499  0.825301    0.813149      0.822526\n",
      "support    298.000000  200.000000  0.825301  498.000000    498.000000\n",
      "\n",
      "Tree with max depth of 7\n",
      "                    0           1  accuracy   macro avg  weighted avg\n",
      "precision    0.826748    0.846154  0.833333    0.836451      0.834541\n",
      "recall       0.912752    0.715000  0.833333    0.813876      0.833333\n",
      "f1-score     0.867624    0.775068  0.833333    0.821346      0.830453\n",
      "support    298.000000  200.000000  0.833333  498.000000    498.000000\n",
      "\n",
      "Tree with max depth of 8\n",
      "                    0           1  accuracy   macro avg  weighted avg\n",
      "precision    0.836923    0.849711  0.841365    0.843317      0.842059\n",
      "recall       0.912752    0.735000  0.841365    0.823876      0.841365\n",
      "f1-score     0.873194    0.788204  0.841365    0.830699      0.839062\n",
      "support    298.000000  200.000000  0.841365  498.000000    498.000000\n",
      "\n",
      "Tree with max depth of 9\n",
      "                    0           1  accuracy   macro avg  weighted avg\n",
      "precision    0.864516    0.840426  0.855422    0.852471      0.854841\n",
      "recall       0.899329    0.790000  0.855422    0.844664      0.855422\n",
      "f1-score     0.881579    0.814433  0.855422    0.848006      0.854613\n",
      "support    298.000000  200.000000  0.855422  498.000000    498.000000\n",
      "\n"
     ]
    }
   ],
   "source": [
    "# Let's get loopy\n",
    "for i in range(1, 10):\n",
    "    # Make the model\n",
    "    tree = DecisionTreeClassifier(max_depth=i, random_state=123)\n",
    "\n",
    "    # Fit the model (on train and only train)\n",
    "    tree = tree.fit(X_train, y_train)\n",
    "\n",
    "    # Use the model\n",
    "    # We'll evaluate the model's performance on train, first\n",
    "    y_predictions = tree.predict(X_train)\n",
    "\n",
    "    # Produce the classification report on the actual y values and this model's predicted y values\n",
    "    report = classification_report(y_train, y_predictions, output_dict=True)\n",
    "    print(f'Tree with max depth of {i}')\n",
    "    print(pd.DataFrame(report))\n",
    "    print()"
   ]
  },
  {
   "cell_type": "code",
   "execution_count": null,
   "id": "5cb699b5",
   "metadata": {},
   "outputs": [],
   "source": [
    "# Which model performs better on your in-sample data?\n",
    "# ----- Max depth of 15+ produces the highest accuracy"
   ]
  },
  {
   "cell_type": "code",
   "execution_count": 89,
   "id": "9f8211a1",
   "metadata": {},
   "outputs": [
    {
     "data": {
      "text/html": [
       "<div>\n",
       "<style scoped>\n",
       "    .dataframe tbody tr th:only-of-type {\n",
       "        vertical-align: middle;\n",
       "    }\n",
       "\n",
       "    .dataframe tbody tr th {\n",
       "        vertical-align: top;\n",
       "    }\n",
       "\n",
       "    .dataframe thead th {\n",
       "        text-align: right;\n",
       "    }\n",
       "</style>\n",
       "<table border=\"1\" class=\"dataframe\">\n",
       "  <thead>\n",
       "    <tr style=\"text-align: right;\">\n",
       "      <th></th>\n",
       "      <th>max_depth</th>\n",
       "      <th>train_accuracy</th>\n",
       "      <th>validate_accuracy</th>\n",
       "      <th>difference</th>\n",
       "    </tr>\n",
       "  </thead>\n",
       "  <tbody>\n",
       "    <tr>\n",
       "      <th>0</th>\n",
       "      <td>1</td>\n",
       "      <td>0.781124</td>\n",
       "      <td>0.784</td>\n",
       "      <td>-0.002876</td>\n",
       "    </tr>\n",
       "    <tr>\n",
       "      <th>1</th>\n",
       "      <td>2</td>\n",
       "      <td>0.781124</td>\n",
       "      <td>0.784</td>\n",
       "      <td>-0.002876</td>\n",
       "    </tr>\n",
       "    <tr>\n",
       "      <th>2</th>\n",
       "      <td>3</td>\n",
       "      <td>0.805221</td>\n",
       "      <td>0.784</td>\n",
       "      <td>0.021221</td>\n",
       "    </tr>\n",
       "    <tr>\n",
       "      <th>3</th>\n",
       "      <td>4</td>\n",
       "      <td>0.813253</td>\n",
       "      <td>0.784</td>\n",
       "      <td>0.029253</td>\n",
       "    </tr>\n",
       "    <tr>\n",
       "      <th>4</th>\n",
       "      <td>5</td>\n",
       "      <td>0.821285</td>\n",
       "      <td>0.784</td>\n",
       "      <td>0.037285</td>\n",
       "    </tr>\n",
       "    <tr>\n",
       "      <th>5</th>\n",
       "      <td>6</td>\n",
       "      <td>0.825301</td>\n",
       "      <td>0.776</td>\n",
       "      <td>0.049301</td>\n",
       "    </tr>\n",
       "    <tr>\n",
       "      <th>6</th>\n",
       "      <td>7</td>\n",
       "      <td>0.833333</td>\n",
       "      <td>0.784</td>\n",
       "      <td>0.049333</td>\n",
       "    </tr>\n",
       "    <tr>\n",
       "      <th>7</th>\n",
       "      <td>8</td>\n",
       "      <td>0.841365</td>\n",
       "      <td>0.784</td>\n",
       "      <td>0.057365</td>\n",
       "    </tr>\n",
       "    <tr>\n",
       "      <th>8</th>\n",
       "      <td>9</td>\n",
       "      <td>0.855422</td>\n",
       "      <td>0.760</td>\n",
       "      <td>0.095422</td>\n",
       "    </tr>\n",
       "    <tr>\n",
       "      <th>9</th>\n",
       "      <td>10</td>\n",
       "      <td>0.859438</td>\n",
       "      <td>0.768</td>\n",
       "      <td>0.091438</td>\n",
       "    </tr>\n",
       "    <tr>\n",
       "      <th>10</th>\n",
       "      <td>11</td>\n",
       "      <td>0.873494</td>\n",
       "      <td>0.776</td>\n",
       "      <td>0.097494</td>\n",
       "    </tr>\n",
       "    <tr>\n",
       "      <th>11</th>\n",
       "      <td>12</td>\n",
       "      <td>0.877510</td>\n",
       "      <td>0.840</td>\n",
       "      <td>0.037510</td>\n",
       "    </tr>\n",
       "    <tr>\n",
       "      <th>12</th>\n",
       "      <td>13</td>\n",
       "      <td>0.889558</td>\n",
       "      <td>0.808</td>\n",
       "      <td>0.081558</td>\n",
       "    </tr>\n",
       "    <tr>\n",
       "      <th>13</th>\n",
       "      <td>14</td>\n",
       "      <td>0.893574</td>\n",
       "      <td>0.808</td>\n",
       "      <td>0.085574</td>\n",
       "    </tr>\n",
       "    <tr>\n",
       "      <th>14</th>\n",
       "      <td>15</td>\n",
       "      <td>0.901606</td>\n",
       "      <td>0.824</td>\n",
       "      <td>0.077606</td>\n",
       "    </tr>\n",
       "    <tr>\n",
       "      <th>15</th>\n",
       "      <td>16</td>\n",
       "      <td>0.903614</td>\n",
       "      <td>0.808</td>\n",
       "      <td>0.095614</td>\n",
       "    </tr>\n",
       "    <tr>\n",
       "      <th>16</th>\n",
       "      <td>17</td>\n",
       "      <td>0.903614</td>\n",
       "      <td>0.816</td>\n",
       "      <td>0.087614</td>\n",
       "    </tr>\n",
       "    <tr>\n",
       "      <th>17</th>\n",
       "      <td>18</td>\n",
       "      <td>0.903614</td>\n",
       "      <td>0.824</td>\n",
       "      <td>0.079614</td>\n",
       "    </tr>\n",
       "    <tr>\n",
       "      <th>18</th>\n",
       "      <td>19</td>\n",
       "      <td>0.903614</td>\n",
       "      <td>0.824</td>\n",
       "      <td>0.079614</td>\n",
       "    </tr>\n",
       "    <tr>\n",
       "      <th>19</th>\n",
       "      <td>20</td>\n",
       "      <td>0.903614</td>\n",
       "      <td>0.824</td>\n",
       "      <td>0.079614</td>\n",
       "    </tr>\n",
       "    <tr>\n",
       "      <th>20</th>\n",
       "      <td>21</td>\n",
       "      <td>0.903614</td>\n",
       "      <td>0.824</td>\n",
       "      <td>0.079614</td>\n",
       "    </tr>\n",
       "    <tr>\n",
       "      <th>21</th>\n",
       "      <td>22</td>\n",
       "      <td>0.903614</td>\n",
       "      <td>0.824</td>\n",
       "      <td>0.079614</td>\n",
       "    </tr>\n",
       "    <tr>\n",
       "      <th>22</th>\n",
       "      <td>23</td>\n",
       "      <td>0.903614</td>\n",
       "      <td>0.824</td>\n",
       "      <td>0.079614</td>\n",
       "    </tr>\n",
       "    <tr>\n",
       "      <th>23</th>\n",
       "      <td>24</td>\n",
       "      <td>0.903614</td>\n",
       "      <td>0.824</td>\n",
       "      <td>0.079614</td>\n",
       "    </tr>\n",
       "  </tbody>\n",
       "</table>\n",
       "</div>"
      ],
      "text/plain": [
       "    max_depth  train_accuracy  validate_accuracy  difference\n",
       "0           1        0.781124              0.784   -0.002876\n",
       "1           2        0.781124              0.784   -0.002876\n",
       "2           3        0.805221              0.784    0.021221\n",
       "3           4        0.813253              0.784    0.029253\n",
       "4           5        0.821285              0.784    0.037285\n",
       "5           6        0.825301              0.776    0.049301\n",
       "6           7        0.833333              0.784    0.049333\n",
       "7           8        0.841365              0.784    0.057365\n",
       "8           9        0.855422              0.760    0.095422\n",
       "9          10        0.859438              0.768    0.091438\n",
       "10         11        0.873494              0.776    0.097494\n",
       "11         12        0.877510              0.840    0.037510\n",
       "12         13        0.889558              0.808    0.081558\n",
       "13         14        0.893574              0.808    0.085574\n",
       "14         15        0.901606              0.824    0.077606\n",
       "15         16        0.903614              0.808    0.095614\n",
       "16         17        0.903614              0.816    0.087614\n",
       "17         18        0.903614              0.824    0.079614\n",
       "18         19        0.903614              0.824    0.079614\n",
       "19         20        0.903614              0.824    0.079614\n",
       "20         21        0.903614              0.824    0.079614\n",
       "21         22        0.903614              0.824    0.079614\n",
       "22         23        0.903614              0.824    0.079614\n",
       "23         24        0.903614              0.824    0.079614"
      ]
     },
     "execution_count": 89,
     "metadata": {},
     "output_type": "execute_result"
    }
   ],
   "source": [
    "# Which model performs best on your out-of-sample data, the validate set?\n",
    "\n",
    "# Let's continue getting loopy, so we can compare in-sample to out-of-sample\n",
    "metrics = []\n",
    "\n",
    "for i in range(1, 25):\n",
    "    # Make the model\n",
    "    tree = DecisionTreeClassifier(max_depth=i, random_state=123)\n",
    "\n",
    "    # Fit the model (on train and only train)\n",
    "    tree = tree.fit(X_train, y_train)\n",
    "\n",
    "    # Use the model\n",
    "    # We'll evaluate the model's performance on train, first\n",
    "    in_sample_accuracy = tree.score(X_train, y_train)\n",
    "    \n",
    "    out_of_sample_accuracy = tree.score(X_validate, y_validate)\n",
    "\n",
    "    output = {\n",
    "        \"max_depth\": i,\n",
    "        \"train_accuracy\": in_sample_accuracy,\n",
    "        \"validate_accuracy\": out_of_sample_accuracy\n",
    "    }\n",
    "    \n",
    "    metrics.append(output)\n",
    "    \n",
    "df = pd.DataFrame(metrics)\n",
    "df[\"difference\"] = df.train_accuracy - df.validate_accuracy\n",
    "df"
   ]
  },
  {
   "cell_type": "code",
   "execution_count": 90,
   "id": "634656e4",
   "metadata": {},
   "outputs": [
    {
     "data": {
      "image/png": "[encoded data removed]",
      "text/plain": [
       "<Figure size 864x432 with 1 Axes>"
      ]
     },
     "metadata": {
      "needs_background": "light"
     },
     "output_type": "display_data"
    }
   ],
   "source": [
    "plt.figure(figsize=(12, 6))\n",
    "plt.plot(df.max_depth, df.train_accuracy, marker = 'o')\n",
    "plt.plot(df.max_depth, df.validate_accuracy, marker = 'o')\n",
    "plt.title('Overfitting Occurs at Higher Values for Max Depth')\n",
    "plt.xlabel('Max Depth')\n",
    "plt.ylabel('Accuracy')\n",
    "plt.show()"
   ]
  },
  {
   "cell_type": "code",
   "execution_count": 91,
   "id": "d4eb6dba",
   "metadata": {
    "scrolled": true
   },
   "outputs": [
    {
     "data": {
      "text/html": [
       "<div>\n",
       "<style scoped>\n",
       "    .dataframe tbody tr th:only-of-type {\n",
       "        vertical-align: middle;\n",
       "    }\n",
       "\n",
       "    .dataframe tbody tr th {\n",
       "        vertical-align: top;\n",
       "    }\n",
       "\n",
       "    .dataframe thead th {\n",
       "        text-align: right;\n",
       "    }\n",
       "</style>\n",
       "<table border=\"1\" class=\"dataframe\">\n",
       "  <thead>\n",
       "    <tr style=\"text-align: right;\">\n",
       "      <th></th>\n",
       "      <th>max_depth</th>\n",
       "      <th>train_accuracy</th>\n",
       "      <th>validate_accuracy</th>\n",
       "      <th>difference</th>\n",
       "    </tr>\n",
       "  </thead>\n",
       "  <tbody>\n",
       "    <tr>\n",
       "      <th>11</th>\n",
       "      <td>12</td>\n",
       "      <td>0.877510</td>\n",
       "      <td>0.840</td>\n",
       "      <td>0.037510</td>\n",
       "    </tr>\n",
       "    <tr>\n",
       "      <th>14</th>\n",
       "      <td>15</td>\n",
       "      <td>0.901606</td>\n",
       "      <td>0.824</td>\n",
       "      <td>0.077606</td>\n",
       "    </tr>\n",
       "    <tr>\n",
       "      <th>17</th>\n",
       "      <td>18</td>\n",
       "      <td>0.903614</td>\n",
       "      <td>0.824</td>\n",
       "      <td>0.079614</td>\n",
       "    </tr>\n",
       "    <tr>\n",
       "      <th>18</th>\n",
       "      <td>19</td>\n",
       "      <td>0.903614</td>\n",
       "      <td>0.824</td>\n",
       "      <td>0.079614</td>\n",
       "    </tr>\n",
       "    <tr>\n",
       "      <th>19</th>\n",
       "      <td>20</td>\n",
       "      <td>0.903614</td>\n",
       "      <td>0.824</td>\n",
       "      <td>0.079614</td>\n",
       "    </tr>\n",
       "    <tr>\n",
       "      <th>20</th>\n",
       "      <td>21</td>\n",
       "      <td>0.903614</td>\n",
       "      <td>0.824</td>\n",
       "      <td>0.079614</td>\n",
       "    </tr>\n",
       "    <tr>\n",
       "      <th>21</th>\n",
       "      <td>22</td>\n",
       "      <td>0.903614</td>\n",
       "      <td>0.824</td>\n",
       "      <td>0.079614</td>\n",
       "    </tr>\n",
       "    <tr>\n",
       "      <th>22</th>\n",
       "      <td>23</td>\n",
       "      <td>0.903614</td>\n",
       "      <td>0.824</td>\n",
       "      <td>0.079614</td>\n",
       "    </tr>\n",
       "    <tr>\n",
       "      <th>23</th>\n",
       "      <td>24</td>\n",
       "      <td>0.903614</td>\n",
       "      <td>0.824</td>\n",
       "      <td>0.079614</td>\n",
       "    </tr>\n",
       "    <tr>\n",
       "      <th>16</th>\n",
       "      <td>17</td>\n",
       "      <td>0.903614</td>\n",
       "      <td>0.816</td>\n",
       "      <td>0.087614</td>\n",
       "    </tr>\n",
       "    <tr>\n",
       "      <th>12</th>\n",
       "      <td>13</td>\n",
       "      <td>0.889558</td>\n",
       "      <td>0.808</td>\n",
       "      <td>0.081558</td>\n",
       "    </tr>\n",
       "    <tr>\n",
       "      <th>13</th>\n",
       "      <td>14</td>\n",
       "      <td>0.893574</td>\n",
       "      <td>0.808</td>\n",
       "      <td>0.085574</td>\n",
       "    </tr>\n",
       "    <tr>\n",
       "      <th>15</th>\n",
       "      <td>16</td>\n",
       "      <td>0.903614</td>\n",
       "      <td>0.808</td>\n",
       "      <td>0.095614</td>\n",
       "    </tr>\n",
       "    <tr>\n",
       "      <th>0</th>\n",
       "      <td>1</td>\n",
       "      <td>0.781124</td>\n",
       "      <td>0.784</td>\n",
       "      <td>-0.002876</td>\n",
       "    </tr>\n",
       "    <tr>\n",
       "      <th>1</th>\n",
       "      <td>2</td>\n",
       "      <td>0.781124</td>\n",
       "      <td>0.784</td>\n",
       "      <td>-0.002876</td>\n",
       "    </tr>\n",
       "    <tr>\n",
       "      <th>2</th>\n",
       "      <td>3</td>\n",
       "      <td>0.805221</td>\n",
       "      <td>0.784</td>\n",
       "      <td>0.021221</td>\n",
       "    </tr>\n",
       "    <tr>\n",
       "      <th>3</th>\n",
       "      <td>4</td>\n",
       "      <td>0.813253</td>\n",
       "      <td>0.784</td>\n",
       "      <td>0.029253</td>\n",
       "    </tr>\n",
       "    <tr>\n",
       "      <th>4</th>\n",
       "      <td>5</td>\n",
       "      <td>0.821285</td>\n",
       "      <td>0.784</td>\n",
       "      <td>0.037285</td>\n",
       "    </tr>\n",
       "    <tr>\n",
       "      <th>6</th>\n",
       "      <td>7</td>\n",
       "      <td>0.833333</td>\n",
       "      <td>0.784</td>\n",
       "      <td>0.049333</td>\n",
       "    </tr>\n",
       "    <tr>\n",
       "      <th>7</th>\n",
       "      <td>8</td>\n",
       "      <td>0.841365</td>\n",
       "      <td>0.784</td>\n",
       "      <td>0.057365</td>\n",
       "    </tr>\n",
       "    <tr>\n",
       "      <th>5</th>\n",
       "      <td>6</td>\n",
       "      <td>0.825301</td>\n",
       "      <td>0.776</td>\n",
       "      <td>0.049301</td>\n",
       "    </tr>\n",
       "    <tr>\n",
       "      <th>10</th>\n",
       "      <td>11</td>\n",
       "      <td>0.873494</td>\n",
       "      <td>0.776</td>\n",
       "      <td>0.097494</td>\n",
       "    </tr>\n",
       "    <tr>\n",
       "      <th>9</th>\n",
       "      <td>10</td>\n",
       "      <td>0.859438</td>\n",
       "      <td>0.768</td>\n",
       "      <td>0.091438</td>\n",
       "    </tr>\n",
       "    <tr>\n",
       "      <th>8</th>\n",
       "      <td>9</td>\n",
       "      <td>0.855422</td>\n",
       "      <td>0.760</td>\n",
       "      <td>0.095422</td>\n",
       "    </tr>\n",
       "  </tbody>\n",
       "</table>\n",
       "</div>"
      ],
      "text/plain": [
       "    max_depth  train_accuracy  validate_accuracy  difference\n",
       "11         12        0.877510              0.840    0.037510\n",
       "14         15        0.901606              0.824    0.077606\n",
       "17         18        0.903614              0.824    0.079614\n",
       "18         19        0.903614              0.824    0.079614\n",
       "19         20        0.903614              0.824    0.079614\n",
       "20         21        0.903614              0.824    0.079614\n",
       "21         22        0.903614              0.824    0.079614\n",
       "22         23        0.903614              0.824    0.079614\n",
       "23         24        0.903614              0.824    0.079614\n",
       "16         17        0.903614              0.816    0.087614\n",
       "12         13        0.889558              0.808    0.081558\n",
       "13         14        0.893574              0.808    0.085574\n",
       "15         16        0.903614              0.808    0.095614\n",
       "0           1        0.781124              0.784   -0.002876\n",
       "1           2        0.781124              0.784   -0.002876\n",
       "2           3        0.805221              0.784    0.021221\n",
       "3           4        0.813253              0.784    0.029253\n",
       "4           5        0.821285              0.784    0.037285\n",
       "6           7        0.833333              0.784    0.049333\n",
       "7           8        0.841365              0.784    0.057365\n",
       "5           6        0.825301              0.776    0.049301\n",
       "10         11        0.873494              0.776    0.097494\n",
       "9          10        0.859438              0.768    0.091438\n",
       "8           9        0.855422              0.760    0.095422"
      ]
     },
     "execution_count": 91,
     "metadata": {},
     "output_type": "execute_result"
    }
   ],
   "source": [
    "df[df.difference <= 0.10].sort_values(by=['validate_accuracy', 'difference'], ascending = [False,True])"
   ]
  },
  {
   "cell_type": "markdown",
   "id": "90711133",
   "metadata": {},
   "source": [
    "# Random-forest exercise:\n",
    "\n",
    "1. Fit the Random Forest classifier to your training sample and transform (i.e. make predictions on the training sample) setting the random_state accordingly and setting min_samples_leaf = 1 and max_depth = 10.\n",
    "\n",
    "2. Evaluate your results using the model score, confusion matrix, and classification report.\n",
    "\n",
    "3. Print and clearly label the following: Accuracy, true positive rate, false positive rate, true negative rate, false negative rate, precision, recall, f1-score, and support.\n",
    "\n",
    "4. Run through steps increasing your min_samples_leaf and decreasing your max_depth.\n",
    "\n",
    "5. What are the differences in the evaluation metrics? Which performs better on your in-sample data? Why?\n",
    "\n",
    "After making a few models, which one has the best performance (or closest metrics) on both train and validate?\n"
   ]
  },
  {
   "cell_type": "code",
   "execution_count": 61,
   "id": "a8c445a7",
   "metadata": {},
   "outputs": [],
   "source": [
    "from sklearn.ensemble import RandomForestClassifier"
   ]
  },
  {
   "cell_type": "markdown",
   "id": "7e688df6",
   "metadata": {},
   "source": [
    "### 1. Fit the Random Forest classifier to your training sample and transform (i.e. make predictions on the training sample) setting the random_state accordingly and setting min_samples_leaf = 1 and max_depth = 10.\n",
    "\n",
    "### Train Model"
   ]
  },
  {
   "cell_type": "code",
   "execution_count": 66,
   "id": "57577619",
   "metadata": {},
   "outputs": [
    {
     "data": {
      "text/plain": [
       "RandomForestClassifier(max_depth=10, random_state=123)"
      ]
     },
     "execution_count": 66,
     "metadata": {},
     "output_type": "execute_result"
    }
   ],
   "source": [
    "# Create the object -------- Create the Random Forest object with desired hyper-parameters\n",
    "\n",
    "rf = RandomForestClassifier(max_depth=10, \n",
    "                            min_samples_leaf=1,\n",
    "                            random_state=123)\n",
    "rf"
   ]
  },
  {
   "cell_type": "code",
   "execution_count": 67,
   "id": "02c3a7c7",
   "metadata": {},
   "outputs": [
    {
     "data": {
      "text/plain": [
       "RandomForestClassifier(max_depth=10, random_state=123)"
      ]
     },
     "execution_count": 67,
     "metadata": {},
     "output_type": "execute_result"
    }
   ],
   "source": [
    "# Fit the model ------- Fit the random forest algorithm to the training data.\n",
    "\n",
    "rf.fit(X_train, y_train)"
   ]
  },
  {
   "cell_type": "code",
   "execution_count": 68,
   "id": "3abb1464",
   "metadata": {},
   "outputs": [
    {
     "name": "stdout",
     "output_type": "stream",
     "text": [
      "[0.02168859 0.09572322 0.35365617 0.01101992 0.02964344 0.48826865]\n"
     ]
    }
   ],
   "source": [
    "# Feature Importance -----   Evaluate importance, or weight, of each feature.\n",
    "\n",
    "print(rf.feature_importances_)"
   ]
  },
  {
   "cell_type": "code",
   "execution_count": 69,
   "id": "aacdcf03",
   "metadata": {},
   "outputs": [
    {
     "data": {
      "text/plain": [
       "array(['1', '1', '1', '0', '0', '1', '0', '1', '1', '0', '0', '0', '0',\n",
       "       '0', '0', '0', '0', '0', '0', '0', '1', '1', '0', '0', '1', '0',\n",
       "       '0', '0', '0', '1', '0', '1', '1', '1', '0', '0', '1', '0', '0',\n",
       "       '1', '0', '0', '1', '0', '0', '0', '0', '0', '0', '0', '1', '0',\n",
       "       '1', '0', '1', '0', '0', '0', '1', '0', '0', '0', '0', '1', '0',\n",
       "       '1', '1', '1', '0', '1', '0', '0', '0', '0', '0', '1', '1', '0',\n",
       "       '0', '1', '0', '0', '1', '0', '0', '0', '1', '1', '0', '1', '0',\n",
       "       '0', '0', '1', '0', '1', '0', '1', '0', '1', '0', '0', '0', '0',\n",
       "       '0', '1', '0', '0', '1', '1', '0', '1', '1', '0', '1', '0', '0',\n",
       "       '0', '0', '0', '0', '0', '0', '1', '0', '1', '1', '0', '1', '1',\n",
       "       '1', '0', '1', '1', '0', '0', '0', '0', '0', '0', '0', '0', '0',\n",
       "       '0', '0', '1', '0', '0', '0', '0', '1', '0', '1', '0', '1', '0',\n",
       "       '0', '1', '0', '1', '1', '0', '1', '0', '0', '1', '0', '1', '1',\n",
       "       '1', '0', '0', '0', '0', '1', '1', '1', '0', '0', '0', '1', '0',\n",
       "       '1', '0', '0', '0', '1', '0', '1', '1', '0', '1', '0', '0', '0',\n",
       "       '0', '1', '1', '1', '0', '0', '0', '0', '0', '0', '1', '0', '0',\n",
       "       '1', '1', '0', '0', '0', '0', '0', '1', '0', '1', '0', '1', '0',\n",
       "       '1', '1', '0', '0', '0', '1', '0', '0', '0', '0', '0', '0', '1',\n",
       "       '1', '1', '0', '1', '0', '0', '0', '0', '1', '1', '0', '0', '0',\n",
       "       '1', '0', '0', '1', '0', '0', '0', '0', '0', '1', '1', '0', '1',\n",
       "       '0', '1', '0', '1', '1', '1', '1', '1', '0', '0', '0', '0', '1',\n",
       "       '1', '1', '0', '0', '1', '1', '0', '0', '0', '0', '1', '0', '0',\n",
       "       '0', '0', '0', '1', '0', '0', '0', '0', '1', '0', '0', '0', '0',\n",
       "       '0', '0', '1', '0', '1', '0', '0', '0', '0', '0', '0', '0', '0',\n",
       "       '0', '0', '0', '1', '0', '1', '1', '0', '1', '0', '1', '1', '0',\n",
       "       '0', '0', '0', '1', '0', '0', '1', '0', '0', '0', '1', '0', '1',\n",
       "       '0', '0', '0', '1', '0', '0', '1', '1', '0', '1', '0', '0', '0',\n",
       "       '1', '0', '1', '0', '0', '1', '1', '0', '0', '0', '1', '0', '0',\n",
       "       '0', '1', '0', '1', '0', '1', '0', '1', '0', '1', '0', '0', '1',\n",
       "       '0', '1', '1', '0', '0', '0', '1', '0', '0', '1', '1', '1', '1',\n",
       "       '0', '0', '1', '0', '1', '0', '0', '0', '1', '0', '0', '0', '0',\n",
       "       '1', '1', '0', '1', '0', '0', '1', '0', '0', '0', '0', '0', '0',\n",
       "       '1', '0', '0', '1', '0', '0', '1', '1', '0', '1', '0', '1', '0',\n",
       "       '0', '0', '1', '1', '0', '0', '0', '1', '0', '1', '1', '0', '0',\n",
       "       '0', '0', '0', '0', '0', '0', '1', '1', '1', '0', '1', '1', '1',\n",
       "       '1', '1', '0', '0', '1', '1', '0', '0', '0', '0', '1', '0', '0',\n",
       "       '1', '1', '0', '0', '1', '1', '0', '0', '0', '1', '0', '0', '0',\n",
       "       '0', '1', '0', '0', '0', '0', '1', '1', '0', '0', '1', '1', '1',\n",
       "       '0', '0', '1', '0'], dtype=object)"
      ]
     },
     "execution_count": 69,
     "metadata": {},
     "output_type": "execute_result"
    }
   ],
   "source": [
    "# Make Predictions --------  Classify each flower by its estimated species.\n",
    "\n",
    "y_pred = rf.predict(X_train)\n",
    "y_pred"
   ]
  },
  {
   "cell_type": "code",
   "execution_count": 70,
   "id": "65b9529f",
   "metadata": {},
   "outputs": [
    {
     "data": {
      "text/plain": [
       "array([[0.48403919, 0.51596081],\n",
       "       [0.24394678, 0.75605322],\n",
       "       [0.06333333, 0.93666667],\n",
       "       [0.84245772, 0.15754228],\n",
       "       [0.98110091, 0.01889909],\n",
       "       [0.39533531, 0.60466469],\n",
       "       [0.75527858, 0.24472142],\n",
       "       [0.14724775, 0.85275225],\n",
       "       [0.        , 1.        ],\n",
       "       [0.67352397, 0.32647603],\n",
       "       [0.94974385, 0.05025615],\n",
       "       [0.99846154, 0.00153846],\n",
       "       [0.99177155, 0.00822845],\n",
       "       [0.99110091, 0.00889909],\n",
       "       [0.75527858, 0.24472142],\n",
       "       [0.69345238, 0.30654762],\n",
       "       [0.84245772, 0.15754228],\n",
       "       [0.99325815, 0.00674185],\n",
       "       [0.78166034, 0.21833966],\n",
       "       [0.98921248, 0.01078752],\n",
       "       [0.        , 1.        ],\n",
       "       [0.02394678, 0.97605322],\n",
       "       [0.86327692, 0.13672308],\n",
       "       [0.67352397, 0.32647603],\n",
       "       [0.04185587, 0.95814413],\n",
       "       [0.87189087, 0.12810913],\n",
       "       [0.91539483, 0.08460517],\n",
       "       [0.64993108, 0.35006892],\n",
       "       [0.99325815, 0.00674185],\n",
       "       [0.02394678, 0.97605322],\n",
       "       [0.80930758, 0.19069242],\n",
       "       [0.01      , 0.99      ],\n",
       "       [0.09916667, 0.90083333],\n",
       "       [0.46657504, 0.53342496],\n",
       "       [0.99177155, 0.00822845],\n",
       "       [0.9695853 , 0.0304147 ],\n",
       "       [0.17210236, 0.82789764],\n",
       "       [0.87763145, 0.12236855],\n",
       "       [0.74678392, 0.25321608],\n",
       "       [0.00421429, 0.99578571],\n",
       "       [0.99325815, 0.00674185],\n",
       "       [0.94517524, 0.05482476],\n",
       "       [0.3417849 , 0.6582151 ],\n",
       "       [0.99884615, 0.00115385],\n",
       "       [0.98921248, 0.01078752],\n",
       "       [0.75527858, 0.24472142],\n",
       "       [0.67352397, 0.32647603],\n",
       "       [0.99177155, 0.00822845],\n",
       "       [0.99177155, 0.00822845],\n",
       "       [0.99325815, 0.00674185],\n",
       "       [0.        , 1.        ],\n",
       "       [0.75527858, 0.24472142],\n",
       "       [0.11064452, 0.88935548],\n",
       "       [0.75527858, 0.24472142],\n",
       "       [0.13595852, 0.86404148],\n",
       "       [0.89983289, 0.10016711],\n",
       "       [0.84245772, 0.15754228],\n",
       "       [1.        , 0.        ],\n",
       "       [0.37766511, 0.62233489],\n",
       "       [0.84245772, 0.15754228],\n",
       "       [0.98      , 0.02      ],\n",
       "       [0.50290589, 0.49709411],\n",
       "       [0.98242677, 0.01757323],\n",
       "       [0.48403919, 0.51596081],\n",
       "       [0.99177155, 0.00822845],\n",
       "       [0.11572617, 0.88427383],\n",
       "       [0.37766511, 0.62233489],\n",
       "       [0.24583583, 0.75416417],\n",
       "       [0.67352397, 0.32647603],\n",
       "       [0.02      , 0.98      ],\n",
       "       [0.55612508, 0.44387492],\n",
       "       [0.99177155, 0.00822845],\n",
       "       [0.79879225, 0.20120775],\n",
       "       [0.94756994, 0.05243006],\n",
       "       [0.9877026 , 0.0122974 ],\n",
       "       [0.        , 1.        ],\n",
       "       [0.        , 1.        ],\n",
       "       [0.95324004, 0.04675996],\n",
       "       [0.9695853 , 0.0304147 ],\n",
       "       [0.24583583, 0.75416417],\n",
       "       [0.84245772, 0.15754228],\n",
       "       [0.74678392, 0.25321608],\n",
       "       [0.        , 1.        ],\n",
       "       [0.75527858, 0.24472142],\n",
       "       [0.94974385, 0.05025615],\n",
       "       [0.55145614, 0.44854386],\n",
       "       [0.16017857, 0.83982143],\n",
       "       [0.33781697, 0.66218303],\n",
       "       [0.78166034, 0.21833966],\n",
       "       [0.39533531, 0.60466469],\n",
       "       [0.92578571, 0.07421429],\n",
       "       [0.84245772, 0.15754228],\n",
       "       [0.98921248, 0.01078752],\n",
       "       [0.46657504, 0.53342496],\n",
       "       [0.67352397, 0.32647603],\n",
       "       [0.        , 1.        ],\n",
       "       [0.99177155, 0.00822845],\n",
       "       [0.04      , 0.96      ],\n",
       "       [0.80491407, 0.19508593],\n",
       "       [0.31728805, 0.68271195],\n",
       "       [0.99325815, 0.00674185],\n",
       "       [0.84245772, 0.15754228],\n",
       "       [0.84245772, 0.15754228],\n",
       "       [0.78937807, 0.21062193],\n",
       "       [0.75527858, 0.24472142],\n",
       "       [0.4264035 , 0.5735965 ],\n",
       "       [0.9719067 , 0.0280933 ],\n",
       "       [0.87763145, 0.12236855],\n",
       "       [0.        , 1.        ],\n",
       "       [0.46893407, 0.53106593],\n",
       "       [0.86812808, 0.13187192],\n",
       "       [0.39533531, 0.60466469],\n",
       "       [0.11064452, 0.88935548],\n",
       "       [1.        , 0.        ],\n",
       "       [0.        , 1.        ],\n",
       "       [0.67352397, 0.32647603],\n",
       "       [0.87763145, 0.12236855],\n",
       "       [0.9595853 , 0.0404147 ],\n",
       "       [0.99325815, 0.00674185],\n",
       "       [0.95083333, 0.04916667],\n",
       "       [0.99325815, 0.00674185],\n",
       "       [0.98921248, 0.01078752],\n",
       "       [0.75945002, 0.24054998],\n",
       "       [0.39255846, 0.60744154],\n",
       "       [0.66816667, 0.33183333],\n",
       "       [0.09715365, 0.90284635],\n",
       "       [0.        , 1.        ],\n",
       "       [0.9175    , 0.0825    ],\n",
       "       [0.01      , 0.99      ],\n",
       "       [0.17210236, 0.82789764],\n",
       "       [0.        , 1.        ],\n",
       "       [0.85041667, 0.14958333],\n",
       "       [0.        , 1.        ],\n",
       "       [0.        , 1.        ],\n",
       "       [0.84245772, 0.15754228],\n",
       "       [0.599     , 0.401     ],\n",
       "       [0.93730415, 0.06269585],\n",
       "       [0.75527858, 0.24472142],\n",
       "       [0.96146825, 0.03853175],\n",
       "       [0.94974385, 0.05025615],\n",
       "       [0.55878486, 0.44121514],\n",
       "       [0.9719067 , 0.0280933 ],\n",
       "       [0.94900958, 0.05099042],\n",
       "       [0.84245772, 0.15754228],\n",
       "       [1.        , 0.        ],\n",
       "       [0.24583583, 0.75416417],\n",
       "       [0.69432322, 0.30567678],\n",
       "       [0.74008441, 0.25991559],\n",
       "       [0.93900958, 0.06099042],\n",
       "       [0.63941484, 0.36058516],\n",
       "       [0.        , 1.        ],\n",
       "       [0.85332143, 0.14667857],\n",
       "       [0.01      , 0.99      ],\n",
       "       [0.99846154, 0.00153846],\n",
       "       [0.05224603, 0.94775397],\n",
       "       [0.67352397, 0.32647603],\n",
       "       [0.80491407, 0.19508593],\n",
       "       [0.19486083, 0.80513917],\n",
       "       [0.88614173, 0.11385827],\n",
       "       [0.00321429, 0.99678571],\n",
       "       [0.06033716, 0.93966284],\n",
       "       [0.78937807, 0.21062193],\n",
       "       [0.        , 1.        ],\n",
       "       [0.67352397, 0.32647603],\n",
       "       [0.99325815, 0.00674185],\n",
       "       [0.00321429, 0.99678571],\n",
       "       [0.74678392, 0.25321608],\n",
       "       [0.01      , 0.99      ],\n",
       "       [0.09444721, 0.90555279],\n",
       "       [0.        , 1.        ],\n",
       "       [0.71147082, 0.28852918],\n",
       "       [0.66816667, 0.33183333],\n",
       "       [0.99      , 0.01      ],\n",
       "       [0.99846154, 0.00153846],\n",
       "       [0.13595852, 0.86404148],\n",
       "       [0.24583583, 0.75416417],\n",
       "       [0.01      , 0.99      ],\n",
       "       [0.99325815, 0.00674185],\n",
       "       [0.84245772, 0.15754228],\n",
       "       [1.        , 0.        ],\n",
       "       [0.        , 1.        ],\n",
       "       [0.87763145, 0.12236855],\n",
       "       [0.1625    , 0.8375    ],\n",
       "       [0.96558731, 0.03441269],\n",
       "       [0.9719067 , 0.0280933 ],\n",
       "       [0.84245772, 0.15754228],\n",
       "       [0.48403919, 0.51596081],\n",
       "       [0.94900958, 0.05099042],\n",
       "       [0.08175   , 0.91825   ],\n",
       "       [0.30041053, 0.69958947],\n",
       "       [1.        , 0.        ],\n",
       "       [0.13595852, 0.86404148],\n",
       "       [0.80491407, 0.19508593],\n",
       "       [0.94900958, 0.05099042],\n",
       "       [0.93637421, 0.06362579],\n",
       "       [0.98671248, 0.01328752],\n",
       "       [0.01      , 0.99      ],\n",
       "       [0.        , 1.        ],\n",
       "       [0.        , 1.        ],\n",
       "       [0.68781246, 0.31218754],\n",
       "       [0.79695212, 0.20304788],\n",
       "       [0.6752619 , 0.3247381 ],\n",
       "       [1.        , 0.        ],\n",
       "       [0.7425    , 0.2575    ],\n",
       "       [0.75945002, 0.24054998],\n",
       "       [0.02      , 0.98      ],\n",
       "       [0.98921248, 0.01078752],\n",
       "       [0.55145614, 0.44854386],\n",
       "       [0.00952381, 0.99047619],\n",
       "       [0.03      , 0.97      ],\n",
       "       [0.91220234, 0.08779766],\n",
       "       [0.91539483, 0.08460517],\n",
       "       [0.85332143, 0.14667857],\n",
       "       [0.75527858, 0.24472142],\n",
       "       [0.98921248, 0.01078752],\n",
       "       [0.08175   , 0.91825   ],\n",
       "       [0.75527858, 0.24472142],\n",
       "       [0.        , 1.        ],\n",
       "       [0.50290589, 0.49709411],\n",
       "       [0.48202605, 0.51797395],\n",
       "       [0.84245772, 0.15754228],\n",
       "       [0.        , 1.        ],\n",
       "       [0.        , 1.        ],\n",
       "       [0.84245772, 0.15754228],\n",
       "       [0.78166034, 0.21833966],\n",
       "       [0.98      , 0.02      ],\n",
       "       [0.02      , 0.98      ],\n",
       "       [0.84245772, 0.15754228],\n",
       "       [0.96558731, 0.03441269],\n",
       "       [0.75945002, 0.24054998],\n",
       "       [0.75527858, 0.24472142],\n",
       "       [0.99325815, 0.00674185],\n",
       "       [0.89900958, 0.10099042],\n",
       "       [0.19241727, 0.80758273],\n",
       "       [0.11064452, 0.88935548],\n",
       "       [0.03      , 0.97      ],\n",
       "       [0.77893407, 0.22106593],\n",
       "       [0.06466667, 0.93533333],\n",
       "       [0.93161231, 0.06838769],\n",
       "       [0.74916667, 0.25083333],\n",
       "       [0.78937807, 0.21062193],\n",
       "       [0.99846154, 0.00153846],\n",
       "       [0.24583583, 0.75416417],\n",
       "       [0.32396613, 0.67603387],\n",
       "       [0.99325815, 0.00674185],\n",
       "       [0.88486829, 0.11513171],\n",
       "       [0.6932367 , 0.3067633 ],\n",
       "       [0.02277778, 0.97722222],\n",
       "       [0.77121302, 0.22878698],\n",
       "       [0.87763145, 0.12236855],\n",
       "       [0.37578431, 0.62421569],\n",
       "       [0.96146825, 0.03853175],\n",
       "       [0.87375001, 0.12624999],\n",
       "       [0.84245772, 0.15754228],\n",
       "       [0.8340256 , 0.1659744 ],\n",
       "       [0.99393315, 0.00606685],\n",
       "       [0.18975   , 0.81025   ],\n",
       "       [0.01      , 0.99      ],\n",
       "       [0.92324004, 0.07675996],\n",
       "       [0.48403919, 0.51596081],\n",
       "       [0.93161231, 0.06838769],\n",
       "       [0.24583583, 0.75416417],\n",
       "       [1.        , 0.        ],\n",
       "       [0.01      , 0.99      ],\n",
       "       [0.14724775, 0.85275225],\n",
       "       [0.13396613, 0.86603387],\n",
       "       [0.01738095, 0.98261905],\n",
       "       [0.47424026, 0.52575974],\n",
       "       [0.98666667, 0.01333333],\n",
       "       [0.78937807, 0.21062193],\n",
       "       [0.86812808, 0.13187192],\n",
       "       [0.52497897, 0.47502103],\n",
       "       [0.11064452, 0.88935548],\n",
       "       [0.        , 1.        ],\n",
       "       [0.35645748, 0.64354252],\n",
       "       [0.55145614, 0.44854386],\n",
       "       [0.52497897, 0.47502103],\n",
       "       [0.11064452, 0.88935548],\n",
       "       [0.02506494, 0.97493506],\n",
       "       [0.94857143, 0.05142857],\n",
       "       [0.84245772, 0.15754228],\n",
       "       [0.98185412, 0.01814588],\n",
       "       [0.98      , 0.02      ],\n",
       "       [0.24583583, 0.75416417],\n",
       "       [0.99325815, 0.00674185],\n",
       "       [0.98666667, 0.01333333],\n",
       "       [0.98242677, 0.01757323],\n",
       "       [0.53511258, 0.46488742],\n",
       "       [0.94974385, 0.05025615],\n",
       "       [0.32319154, 0.67680846],\n",
       "       [0.94974385, 0.05025615],\n",
       "       [0.99177155, 0.00822845],\n",
       "       [0.96295113, 0.03704887],\n",
       "       [0.87763145, 0.12236855],\n",
       "       [0.19241727, 0.80758273],\n",
       "       [0.81171402, 0.18828598],\n",
       "       [0.78166034, 0.21833966],\n",
       "       [0.86327692, 0.13672308],\n",
       "       [0.69012266, 0.30987734],\n",
       "       [0.89983289, 0.10016711],\n",
       "       [0.84245772, 0.15754228],\n",
       "       [0.14724775, 0.85275225],\n",
       "       [0.98921248, 0.01078752],\n",
       "       [0.01      , 0.99      ],\n",
       "       [0.98406623, 0.01593377],\n",
       "       [1.        , 0.        ],\n",
       "       [0.89983289, 0.10016711],\n",
       "       [0.94974385, 0.05025615],\n",
       "       [0.89983289, 0.10016711],\n",
       "       [0.95324004, 0.04675996],\n",
       "       [0.92683238, 0.07316762],\n",
       "       [1.        , 0.        ],\n",
       "       [0.89983289, 0.10016711],\n",
       "       [0.67352397, 0.32647603],\n",
       "       [0.97257337, 0.02742663],\n",
       "       [0.08572617, 0.91427383],\n",
       "       [0.66816667, 0.33183333],\n",
       "       [0.        , 1.        ],\n",
       "       [0.32154762, 0.67845238],\n",
       "       [0.89220234, 0.10779766],\n",
       "       [0.        , 1.        ],\n",
       "       [1.        , 0.        ],\n",
       "       [0.03185587, 0.96814413],\n",
       "       [0.        , 1.        ],\n",
       "       [0.599     , 0.401     ],\n",
       "       [0.99177155, 0.00822845],\n",
       "       [0.98406623, 0.01593377],\n",
       "       [0.93730415, 0.06269585],\n",
       "       [0.        , 1.        ],\n",
       "       [0.98242677, 0.01757323],\n",
       "       [0.98921248, 0.01078752],\n",
       "       [0.30825539, 0.69174461],\n",
       "       [0.94517524, 0.05482476],\n",
       "       [0.52106642, 0.47893358],\n",
       "       [0.60639957, 0.39360043],\n",
       "       [0.05224603, 0.94775397],\n",
       "       [0.80491407, 0.19508593],\n",
       "       [0.21260677, 0.78739323],\n",
       "       [0.64689714, 0.35310286],\n",
       "       [0.84245772, 0.15754228],\n",
       "       [0.69345238, 0.30654762],\n",
       "       [0.        , 1.        ],\n",
       "       [0.99846154, 0.00153846],\n",
       "       [0.80491407, 0.19508593],\n",
       "       [0.02      , 0.98      ],\n",
       "       [0.48403919, 0.51596081],\n",
       "       [0.98921248, 0.01078752],\n",
       "       [0.13595852, 0.86404148],\n",
       "       [0.98185412, 0.01814588],\n",
       "       [0.80491407, 0.19508593],\n",
       "       [0.98242677, 0.01757323],\n",
       "       [0.        , 1.        ],\n",
       "       [0.9656328 , 0.0343672 ],\n",
       "       [0.        , 1.        ],\n",
       "       [0.75694565, 0.24305435],\n",
       "       [0.89983289, 0.10016711],\n",
       "       [0.32319154, 0.67680846],\n",
       "       [0.23107042, 0.76892958],\n",
       "       [0.89983289, 0.10016711],\n",
       "       [1.        , 0.        ],\n",
       "       [0.85231204, 0.14768796],\n",
       "       [0.14724775, 0.85275225],\n",
       "       [0.80491407, 0.19508593],\n",
       "       [0.75945002, 0.24054998],\n",
       "       [0.69345238, 0.30654762],\n",
       "       [0.14724775, 0.85275225],\n",
       "       [0.95018745, 0.04981255],\n",
       "       [0.14724775, 0.85275225],\n",
       "       [0.89983289, 0.10016711],\n",
       "       [0.13595852, 0.86404148],\n",
       "       [0.96146825, 0.03853175],\n",
       "       [0.13595852, 0.86404148],\n",
       "       [0.99325815, 0.00674185],\n",
       "       [0.35335864, 0.64664136],\n",
       "       [0.75527858, 0.24472142],\n",
       "       [0.53511258, 0.46488742],\n",
       "       [0.        , 1.        ],\n",
       "       [0.98242677, 0.01757323],\n",
       "       [0.39762139, 0.60237861],\n",
       "       [0.        , 1.        ],\n",
       "       [0.50290589, 0.49709411],\n",
       "       [0.77121302, 0.22878698],\n",
       "       [0.98      , 0.02      ],\n",
       "       [0.02      , 0.98      ],\n",
       "       [0.99177155, 0.00822845],\n",
       "       [0.99325815, 0.00674185],\n",
       "       [0.11064452, 0.88935548],\n",
       "       [0.29545499, 0.70454501],\n",
       "       [0.32319154, 0.67680846],\n",
       "       [0.11064452, 0.88935548],\n",
       "       [0.74678392, 0.25321608],\n",
       "       [0.94781793, 0.05218207],\n",
       "       [0.01      , 0.99      ],\n",
       "       [0.67352397, 0.32647603],\n",
       "       [0.12975   , 0.87025   ],\n",
       "       [0.73605415, 0.26394585],\n",
       "       [0.99393315, 0.00606685],\n",
       "       [0.87481204, 0.12518796],\n",
       "       [0.13595852, 0.86404148],\n",
       "       [0.9719067 , 0.0280933 ],\n",
       "       [0.80491407, 0.19508593],\n",
       "       [0.93552171, 0.06447829],\n",
       "       [0.7106328 , 0.2893672 ],\n",
       "       [0.05916667, 0.94083333],\n",
       "       [0.00952381, 0.99047619],\n",
       "       [0.99846154, 0.00153846],\n",
       "       [0.35916667, 0.64083333],\n",
       "       [1.        , 0.        ],\n",
       "       [0.80491407, 0.19508593],\n",
       "       [0.11208333, 0.88791667],\n",
       "       [0.75527858, 0.24472142],\n",
       "       [1.        , 0.        ],\n",
       "       [0.84666667, 0.15333333],\n",
       "       [0.99110091, 0.00889909],\n",
       "       [0.95850849, 0.04149151],\n",
       "       [0.50290589, 0.49709411],\n",
       "       [0.07485714, 0.92514286],\n",
       "       [0.55145614, 0.44854386],\n",
       "       [0.84245772, 0.15754228],\n",
       "       [0.32319154, 0.67680846],\n",
       "       [0.78937807, 0.21062193],\n",
       "       [0.84245772, 0.15754228],\n",
       "       [0.        , 1.        ],\n",
       "       [0.        , 1.        ],\n",
       "       [0.98921248, 0.01078752],\n",
       "       [0.13595852, 0.86404148],\n",
       "       [0.84245772, 0.15754228],\n",
       "       [0.        , 1.        ],\n",
       "       [0.74762047, 0.25237953],\n",
       "       [0.98406623, 0.01593377],\n",
       "       [0.87722222, 0.12277778],\n",
       "       [0.48403919, 0.51596081],\n",
       "       [0.18961388, 0.81038612],\n",
       "       [0.75527858, 0.24472142],\n",
       "       [0.64993108, 0.35006892],\n",
       "       [0.99110091, 0.00889909],\n",
       "       [0.11064452, 0.88935548],\n",
       "       [0.84245772, 0.15754228],\n",
       "       [0.04185587, 0.95814413],\n",
       "       [0.26930231, 0.73069769],\n",
       "       [0.87763145, 0.12236855],\n",
       "       [0.98921248, 0.01078752],\n",
       "       [0.89983289, 0.10016711],\n",
       "       [0.98406623, 0.01593377],\n",
       "       [0.99177155, 0.00822845],\n",
       "       [0.99177155, 0.00822845],\n",
       "       [0.87189087, 0.12810913],\n",
       "       [0.98921248, 0.01078752],\n",
       "       [0.04      , 0.96      ],\n",
       "       [0.04185587, 0.95814413],\n",
       "       [0.        , 1.        ],\n",
       "       [0.67352397, 0.32647603],\n",
       "       [0.01      , 0.99      ],\n",
       "       [0.        , 1.        ],\n",
       "       [0.48202605, 0.51797395],\n",
       "       [0.48403919, 0.51596081],\n",
       "       [0.47424026, 0.52575974],\n",
       "       [0.98185412, 0.01814588],\n",
       "       [0.8302217 , 0.1697783 ],\n",
       "       [0.32154762, 0.67845238],\n",
       "       [0.21260677, 0.78739323],\n",
       "       [0.89983289, 0.10016711],\n",
       "       [0.99325815, 0.00674185],\n",
       "       [0.92525749, 0.07474251],\n",
       "       [0.99325815, 0.00674185],\n",
       "       [0.48591852, 0.51408148],\n",
       "       [0.74678392, 0.25321608],\n",
       "       [0.88278545, 0.11721455],\n",
       "       [0.        , 1.        ],\n",
       "       [0.0772381 , 0.9227619 ],\n",
       "       [0.74678392, 0.25321608],\n",
       "       [0.84245772, 0.15754228],\n",
       "       [0.11572617, 0.88427383],\n",
       "       [0.00952381, 0.99047619],\n",
       "       [0.89983289, 0.10016711],\n",
       "       [0.75527858, 0.24472142],\n",
       "       [0.74678392, 0.25321608],\n",
       "       [0.39762139, 0.60237861],\n",
       "       [1.        , 0.        ],\n",
       "       [0.84245772, 0.15754228],\n",
       "       [0.78255501, 0.21744499],\n",
       "       [0.98406623, 0.01593377],\n",
       "       [0.32154762, 0.67845238],\n",
       "       [0.87763145, 0.12236855],\n",
       "       [0.89983289, 0.10016711],\n",
       "       [0.84245772, 0.15754228],\n",
       "       [0.97933729, 0.02066271],\n",
       "       [0.19241727, 0.80758273],\n",
       "       [0.14724775, 0.85275225],\n",
       "       [0.83639957, 0.16360043],\n",
       "       [0.99110091, 0.00889909],\n",
       "       [0.24583583, 0.75416417],\n",
       "       [0.10152381, 0.89847619],\n",
       "       [0.48403919, 0.51596081],\n",
       "       [0.94      , 0.06      ],\n",
       "       [0.99325815, 0.00674185],\n",
       "       [0.        , 1.        ],\n",
       "       [0.9656328 , 0.0343672 ]])"
      ]
     },
     "execution_count": 70,
     "metadata": {},
     "output_type": "execute_result"
    }
   ],
   "source": [
    "# Estimate Probability ------- Estimate the probability of each species, using the training data.\n",
    "\n",
    "y_pred_proba = rf.predict_proba(X_train)\n",
    "y_pred_proba"
   ]
  },
  {
   "cell_type": "markdown",
   "id": "3fc2943a",
   "metadata": {},
   "source": [
    "### 2. Evaluate your results using the model score, confusion matrix, and classification report.\n",
    "\n",
    "### Evaluate Model"
   ]
  },
  {
   "cell_type": "code",
   "execution_count": 71,
   "id": "de6bd492",
   "metadata": {},
   "outputs": [
    {
     "name": "stdout",
     "output_type": "stream",
     "text": [
      "Accuracy of random forest classifier on training set: 0.90\n"
     ]
    }
   ],
   "source": [
    "# Compute the Accuracy\n",
    "\n",
    "print('Accuracy of random forest classifier on training set: {:.2f}'\n",
    "     .format(rf.score(X_train, y_train)))"
   ]
  },
  {
   "cell_type": "code",
   "execution_count": 72,
   "id": "435e9c30",
   "metadata": {},
   "outputs": [
    {
     "name": "stdout",
     "output_type": "stream",
     "text": [
      "[[281  17]\n",
      " [ 34 166]]\n"
     ]
    }
   ],
   "source": [
    "# Create a confusion matrix\n",
    "\n",
    "print(confusion_matrix(y_train, y_pred))"
   ]
  },
  {
   "cell_type": "markdown",
   "id": "ed90ed62",
   "metadata": {},
   "source": [
    "**Create a classificaiton report**\n",
    "\n",
    "**Precision:** $\\frac{TP}{(TP + FP)}$\n",
    "\n",
    "**Recall:** $\\frac{TP}{(TP + FN)}$\n",
    "\n",
    "**F1-Score:** A measure of accuracy. The harmonic mean of precision & recall. The harmonic mean is the reciprocal of the arithmetic mean of the reciprocals.  \n",
    "\n",
    "F1 $\\in [0, 1]$\n",
    "\n",
    "F1-score = harmonic mean = $\\frac{2}{\\frac{1}{precision} + \\frac{1}{recall}}$\n",
    "\n",
    "**Support:** number of occurrences of each class. "
   ]
  },
  {
   "cell_type": "code",
   "execution_count": 73,
   "id": "92083013",
   "metadata": {},
   "outputs": [
    {
     "name": "stdout",
     "output_type": "stream",
     "text": [
      "              precision    recall  f1-score   support\n",
      "\n",
      "           0       0.89      0.94      0.92       298\n",
      "           1       0.91      0.83      0.87       200\n",
      "\n",
      "    accuracy                           0.90       498\n",
      "   macro avg       0.90      0.89      0.89       498\n",
      "weighted avg       0.90      0.90      0.90       498\n",
      "\n"
     ]
    }
   ],
   "source": [
    "print(classification_report(y_train, y_pred))"
   ]
  },
  {
   "cell_type": "markdown",
   "id": "d92f8abd",
   "metadata": {},
   "source": [
    "### Validate Model"
   ]
  },
  {
   "cell_type": "code",
   "execution_count": 74,
   "id": "62c5bb7e",
   "metadata": {},
   "outputs": [
    {
     "name": "stdout",
     "output_type": "stream",
     "text": [
      "Accuracy of random forest classifier on test set: 0.78\n"
     ]
    }
   ],
   "source": [
    "# Evaluate on Out-of-Sample data ------ Compute the accuracy of the model when run on the validate dataset.\n",
    "\n",
    "print('Accuracy of random forest classifier on test set: {:.2f}'\n",
    "     .format(rf.score(X_validate, y_validate)))"
   ]
  },
  {
   "cell_type": "markdown",
   "id": "ea30c763",
   "metadata": {},
   "source": [
    "### 3. Print and clearly label the following: Accuracy, true positive rate, false positive rate, true negative rate, false negative rate, precision, recall, f1-score, and support.\n",
    "\n",
    "\n",
    "* predictions = rf.predict(X_train) = y_predictions\n",
    "* actual = y_train"
   ]
  },
  {
   "cell_type": "code",
   "execution_count": 81,
   "id": "479b5150",
   "metadata": {},
   "outputs": [
    {
     "data": {
      "text/plain": [
       "(269, 29, 68, 132)"
      ]
     },
     "execution_count": 81,
     "metadata": {},
     "output_type": "execute_result"
    }
   ],
   "source": [
    "TN, FP, FN, TP = confusion_matrix(y_train, y_pred).ravel()\n",
    "TN, FP, FN, TP"
   ]
  },
  {
   "cell_type": "code",
   "execution_count": 82,
   "id": "5f9c3a04",
   "metadata": {},
   "outputs": [
    {
     "name": "stdout",
     "output_type": "stream",
     "text": [
      "Negative Cases: 298\n",
      "Positive Cases: 200\n",
      "0    298\n",
      "1    200\n",
      "Name: survived, dtype: int64\n"
     ]
    }
   ],
   "source": [
    "negative_cases = TN + FP\n",
    "positive_cases = FN + TP\n",
    "print(f\"Negative Cases: {negative_cases}\")\n",
    "print(f\"Positive Cases: {positive_cases}\")\n",
    "print(y_train.value_counts())"
   ]
  },
  {
   "cell_type": "code",
   "execution_count": 83,
   "id": "8bb88c15",
   "metadata": {},
   "outputs": [
    {
     "name": "stdout",
     "output_type": "stream",
     "text": [
      "Accuracy: 0.8052208835341366 \n",
      "\n",
      "True Positive Rate/Sensitivity/Recall/Power: 0.66 \n",
      "\n",
      "False Positive Rate/False Alarm Ratio/Fall-out: 0.09731543624161074 \n",
      "\n",
      "True Negative Rate/Specificity/Selectivity: 0.9026845637583892 \n",
      "\n",
      "False Negative Rate/Miss Rate: 0.34 \n",
      "\n",
      "Precision/PPV: 0.8198757763975155 \n",
      "\n",
      "F1 Score: 0.7313019390581718 \n",
      "\n",
      "Support (0): 298 \n",
      "\n",
      "Support (1): 200\n"
     ]
    }
   ],
   "source": [
    "ALL = TP + FP + FN + TN\n",
    "\n",
    "accuracy = (TP + TN)/ALL\n",
    "true_positive_rate = sensitivity = recall = power = TP/(TP+FN)\n",
    "false_positive_rate = false_alarm_ratio = fallout = FP/(FP+TN)\n",
    "true_negative_rate = specificity = selectivity = TN/(TN+FP)\n",
    "false_negative_rate = miss_rate = FN/(FN+TP)\n",
    "precision = PPV = TP/(TP+FP)\n",
    "f1_score = 2*(precision*recall)/(precision+recall)\n",
    "support_pos = TP + FN\n",
    "support_neg = FP + TN\n",
    "\n",
    "print(f\"Accuracy: {accuracy}\", '\\n')\n",
    "print(f\"True Positive Rate/Sensitivity/Recall/Power: {true_positive_rate}\", '\\n')\n",
    "print(f\"False Positive Rate/False Alarm Ratio/Fall-out: {false_positive_rate}\", '\\n')\n",
    "print(f\"True Negative Rate/Specificity/Selectivity: {true_negative_rate}\", '\\n')\n",
    "print(f\"False Negative Rate/Miss Rate: {false_negative_rate}\", '\\n')\n",
    "print(f\"Precision/PPV: {precision}\", '\\n')\n",
    "print(f\"F1 Score: {f1_score}\", '\\n')\n",
    "print(f\"Support (0): {support_neg}\", '\\n')\n",
    "print(f\"Support (1): {support_pos}\")"
   ]
  },
  {
   "cell_type": "markdown",
   "id": "e0dfab10",
   "metadata": {},
   "source": [
    "### 4. Run through steps increasing your min_samples_leaf and decreasing your max_depth."
   ]
  },
  {
   "cell_type": "code",
   "execution_count": null,
   "id": "e374a43a",
   "metadata": {},
   "outputs": [],
   "source": [
    "rf = RandomForestClassifier(max_depth=10, \n",
    "                            min_samples_leaf=1,\n",
    "                            random_state=123)"
   ]
  },
  {
   "cell_type": "code",
   "execution_count": 103,
   "id": "d4e45cdd",
   "metadata": {},
   "outputs": [
    {
     "name": "stdout",
     "output_type": "stream",
     "text": [
      "Tree with min sample leaf of 1 and max depth with 9\n",
      "                    0           1  accuracy   macro avg  weighted avg\n",
      "precision    0.896774    0.893617  0.895582    0.895196      0.895506\n",
      "recall       0.932886    0.840000  0.895582    0.886443      0.895582\n",
      "f1-score     0.914474    0.865979  0.895582    0.890227      0.894998\n",
      "support    298.000000  200.000000  0.895582  498.000000    498.000000\n",
      "\n",
      "Tree with min sample leaf of 2 and max depth with 8\n",
      "                    0           1  accuracy   macro avg  weighted avg\n",
      "precision    0.866044    0.887006  0.873494    0.876525      0.874462\n",
      "recall       0.932886    0.785000  0.873494    0.858943      0.873494\n",
      "f1-score     0.898223    0.832891  0.873494    0.865557      0.871985\n",
      "support    298.000000  200.000000  0.873494  498.000000    498.000000\n",
      "\n",
      "Tree with min sample leaf of 3 and max depth with 7\n",
      "                    0           1  accuracy   macro avg  weighted avg\n",
      "precision    0.842593    0.856322   0.84739    0.849457      0.848106\n",
      "recall       0.916107    0.745000   0.84739    0.830554      0.847390\n",
      "f1-score     0.877814    0.796791   0.84739    0.837302      0.845275\n",
      "support    298.000000  200.000000   0.84739  498.000000    498.000000\n",
      "\n",
      "Tree with min sample leaf of 4 and max depth with 6\n",
      "                    0           1  accuracy   macro avg  weighted avg\n",
      "precision    0.833846    0.843931  0.837349    0.838888      0.837896\n",
      "recall       0.909396    0.730000  0.837349    0.819698      0.837349\n",
      "f1-score     0.869984    0.782842  0.837349    0.826413      0.834987\n",
      "support    298.000000  200.000000  0.837349  498.000000    498.000000\n",
      "\n",
      "Tree with min sample leaf of 5 and max depth with 5\n",
      "                    0           1  accuracy   macro avg  weighted avg\n",
      "precision    0.796562    0.865772  0.817269    0.831167      0.824357\n",
      "recall       0.932886    0.645000  0.817269    0.788943      0.817269\n",
      "f1-score     0.859351    0.739255  0.817269    0.799303      0.811120\n",
      "support    298.000000  200.000000  0.817269  498.000000    498.000000\n",
      "\n",
      "Tree with min sample leaf of 6 and max depth with 4\n",
      "                    0           1  accuracy   macro avg  weighted avg\n",
      "precision    0.795977    0.860000  0.815261    0.827989      0.821689\n",
      "recall       0.929530    0.645000  0.815261    0.787265      0.815261\n",
      "f1-score     0.857585    0.737143  0.815261    0.797364      0.809215\n",
      "support    298.000000  200.000000  0.815261  498.000000    498.000000\n",
      "\n",
      "Tree with min sample leaf of 7 and max depth with 3\n",
      "                    0           1  accuracy   macro avg  weighted avg\n",
      "precision    0.782123    0.871429  0.807229    0.826776      0.817989\n",
      "recall       0.939597    0.610000  0.807229    0.774799      0.807229\n",
      "f1-score     0.853659    0.717647  0.807229    0.785653      0.799035\n",
      "support    298.000000  200.000000  0.807229  498.000000    498.000000\n",
      "\n",
      "Tree with min sample leaf of 8 and max depth with 2\n",
      "                    0           1  accuracy   macro avg  weighted avg\n",
      "precision    0.766382    0.802721  0.777108    0.784551      0.780976\n",
      "recall       0.902685    0.590000  0.777108    0.746342      0.777108\n",
      "f1-score     0.828968    0.680115  0.777108    0.754541      0.769188\n",
      "support    298.000000  200.000000  0.777108  498.000000    498.000000\n",
      "\n",
      "Tree with min sample leaf of 9 and max depth with 1\n",
      "                    0           1  accuracy   macro avg  weighted avg\n",
      "precision    0.734848    0.931373    0.7751    0.833111      0.813774\n",
      "recall       0.976510    0.475000    0.7751    0.725755      0.775100\n",
      "f1-score     0.838617    0.629139    0.7751    0.733878      0.754489\n",
      "support    298.000000  200.000000    0.7751  498.000000    498.000000\n",
      "\n"
     ]
    }
   ],
   "source": [
    "for i in range(1,10):\n",
    "    # make the model\n",
    "    rf = RandomForestClassifier(max_depth=(10-i), \n",
    "                            min_samples_leaf=i,\n",
    "                            random_state=123)\n",
    "    \n",
    "    # fit the model (ont the train and only train)\n",
    "    rf = rf.fit(X_train, y_train)\n",
    "    \n",
    "    # use the model\n",
    "    # We'll evaluate the model's performance on train, first\n",
    "    y_pred = rf.predict(X_train)\n",
    "    \n",
    "    # Produce the classification report on the actual y values and this model's predicted y values\n",
    "    report = classification_report(y_train, y_pred, output_dict=True)\n",
    "    \n",
    "    print(f'Tree with min sample leaf of {i} and max depth with {10-i}')\n",
    "    print(pd.DataFrame(report))\n",
    "    print()"
   ]
  },
  {
   "cell_type": "markdown",
   "id": "1f4a189f",
   "metadata": {},
   "source": [
    "### 5. What are the differences in the evaluation metrics? Which performs better on your in-sample data? Why?\n",
    "### After making a few models, which one has the best performance (or closest metrics) on both train and validate?"
   ]
  },
  {
   "cell_type": "code",
   "execution_count": 108,
   "id": "f933a17e",
   "metadata": {},
   "outputs": [
    {
     "data": {
      "text/html": [
       "<div>\n",
       "<style scoped>\n",
       "    .dataframe tbody tr th:only-of-type {\n",
       "        vertical-align: middle;\n",
       "    }\n",
       "\n",
       "    .dataframe tbody tr th {\n",
       "        vertical-align: top;\n",
       "    }\n",
       "\n",
       "    .dataframe thead th {\n",
       "        text-align: right;\n",
       "    }\n",
       "</style>\n",
       "<table border=\"1\" class=\"dataframe\">\n",
       "  <thead>\n",
       "    <tr style=\"text-align: right;\">\n",
       "      <th></th>\n",
       "      <th>max_depth</th>\n",
       "      <th>min_sample_lead</th>\n",
       "      <th>train_accuracy</th>\n",
       "      <th>validate_accuracy</th>\n",
       "      <th>difference</th>\n",
       "    </tr>\n",
       "  </thead>\n",
       "  <tbody>\n",
       "    <tr>\n",
       "      <th>0</th>\n",
       "      <td>9</td>\n",
       "      <td>1</td>\n",
       "      <td>0.895582</td>\n",
       "      <td>0.792</td>\n",
       "      <td>0.103582</td>\n",
       "    </tr>\n",
       "    <tr>\n",
       "      <th>1</th>\n",
       "      <td>8</td>\n",
       "      <td>2</td>\n",
       "      <td>0.873494</td>\n",
       "      <td>0.816</td>\n",
       "      <td>0.057494</td>\n",
       "    </tr>\n",
       "    <tr>\n",
       "      <th>2</th>\n",
       "      <td>7</td>\n",
       "      <td>3</td>\n",
       "      <td>0.847390</td>\n",
       "      <td>0.816</td>\n",
       "      <td>0.031390</td>\n",
       "    </tr>\n",
       "    <tr>\n",
       "      <th>3</th>\n",
       "      <td>6</td>\n",
       "      <td>4</td>\n",
       "      <td>0.837349</td>\n",
       "      <td>0.824</td>\n",
       "      <td>0.013349</td>\n",
       "    </tr>\n",
       "    <tr>\n",
       "      <th>4</th>\n",
       "      <td>5</td>\n",
       "      <td>5</td>\n",
       "      <td>0.817269</td>\n",
       "      <td>0.824</td>\n",
       "      <td>-0.006731</td>\n",
       "    </tr>\n",
       "    <tr>\n",
       "      <th>5</th>\n",
       "      <td>4</td>\n",
       "      <td>6</td>\n",
       "      <td>0.815261</td>\n",
       "      <td>0.816</td>\n",
       "      <td>-0.000739</td>\n",
       "    </tr>\n",
       "    <tr>\n",
       "      <th>6</th>\n",
       "      <td>3</td>\n",
       "      <td>7</td>\n",
       "      <td>0.807229</td>\n",
       "      <td>0.824</td>\n",
       "      <td>-0.016771</td>\n",
       "    </tr>\n",
       "    <tr>\n",
       "      <th>7</th>\n",
       "      <td>2</td>\n",
       "      <td>8</td>\n",
       "      <td>0.777108</td>\n",
       "      <td>0.840</td>\n",
       "      <td>-0.062892</td>\n",
       "    </tr>\n",
       "    <tr>\n",
       "      <th>8</th>\n",
       "      <td>1</td>\n",
       "      <td>9</td>\n",
       "      <td>0.775100</td>\n",
       "      <td>0.800</td>\n",
       "      <td>-0.024900</td>\n",
       "    </tr>\n",
       "  </tbody>\n",
       "</table>\n",
       "</div>"
      ],
      "text/plain": [
       "   max_depth  min_sample_lead  train_accuracy  validate_accuracy  difference\n",
       "0          9                1        0.895582              0.792    0.103582\n",
       "1          8                2        0.873494              0.816    0.057494\n",
       "2          7                3        0.847390              0.816    0.031390\n",
       "3          6                4        0.837349              0.824    0.013349\n",
       "4          5                5        0.817269              0.824   -0.006731\n",
       "5          4                6        0.815261              0.816   -0.000739\n",
       "6          3                7        0.807229              0.824   -0.016771\n",
       "7          2                8        0.777108              0.840   -0.062892\n",
       "8          1                9        0.775100              0.800   -0.024900"
      ]
     },
     "execution_count": 108,
     "metadata": {},
     "output_type": "execute_result"
    }
   ],
   "source": [
    "# ompare in-sample to out-of-sample\n",
    "\n",
    "metrics = []\n",
    "\n",
    "for i in range(1,10):\n",
    "    rf = RandomForestClassifier(max_depth=(10-i), \n",
    "                            min_samples_leaf=i,\n",
    "                            random_state=123)\n",
    "    \n",
    "    rf = rf.fit(X_train, y_train)\n",
    "    \n",
    "    in_sample_accuracy = rf.score(X_train, y_train)\n",
    "    \n",
    "    out_of_sample_accuracy = rf.score(X_validate, y_validate)\n",
    "    \n",
    "    output = {\"max_depth\": (10-i),\"min_sample_lead\" :i,\n",
    "        \"train_accuracy\": in_sample_accuracy,\n",
    "        \"validate_accuracy\": out_of_sample_accuracy}\n",
    "        \n",
    "    metrics.append(output)\n",
    "    \n",
    "df = pd.DataFrame(metrics)\n",
    "df[\"difference\"] = df.train_accuracy - df.validate_accuracy\n",
    "df"
   ]
  },
  {
   "cell_type": "code",
   "execution_count": 180,
   "id": "5bb6ed62",
   "metadata": {},
   "outputs": [
    {
     "data": {
      "image/png": "[encoded data removed]",
      "text/plain": [
       "<Figure size 864x432 with 1 Axes>"
      ]
     },
     "metadata": {
      "needs_background": "light"
     },
     "output_type": "display_data"
    }
   ],
   "source": [
    "plt.figure(figsize=(12, 6))\n",
    "plt.plot(df.max_depth, df.train_accuracy, color = 'r', marker = 'o')\n",
    "plt.plot(df.max_depth, df.validate_accuracy, color = 'b', marker = 'o')\n",
    "plt.plot(df.max_depth, df.difference, color = 'g', marker = 'o')\n",
    "plt.title('Overfitting Occurs at Higher Values for Max Depth')\n",
    "plt.xlabel('Max Depth')\n",
    "plt.ylabel('Accuracy')\n",
    "plt.show()"
   ]
  },
  {
   "cell_type": "code",
   "execution_count": 111,
   "id": "f9a80ed9",
   "metadata": {},
   "outputs": [
    {
     "data": {
      "text/html": [
       "<div>\n",
       "<style scoped>\n",
       "    .dataframe tbody tr th:only-of-type {\n",
       "        vertical-align: middle;\n",
       "    }\n",
       "\n",
       "    .dataframe tbody tr th {\n",
       "        vertical-align: top;\n",
       "    }\n",
       "\n",
       "    .dataframe thead th {\n",
       "        text-align: right;\n",
       "    }\n",
       "</style>\n",
       "<table border=\"1\" class=\"dataframe\">\n",
       "  <thead>\n",
       "    <tr style=\"text-align: right;\">\n",
       "      <th></th>\n",
       "      <th>max_depth</th>\n",
       "      <th>min_sample_lead</th>\n",
       "      <th>train_accuracy</th>\n",
       "      <th>validate_accuracy</th>\n",
       "      <th>difference</th>\n",
       "    </tr>\n",
       "  </thead>\n",
       "  <tbody>\n",
       "    <tr>\n",
       "      <th>7</th>\n",
       "      <td>2</td>\n",
       "      <td>8</td>\n",
       "      <td>0.777108</td>\n",
       "      <td>0.840</td>\n",
       "      <td>-0.062892</td>\n",
       "    </tr>\n",
       "    <tr>\n",
       "      <th>6</th>\n",
       "      <td>3</td>\n",
       "      <td>7</td>\n",
       "      <td>0.807229</td>\n",
       "      <td>0.824</td>\n",
       "      <td>-0.016771</td>\n",
       "    </tr>\n",
       "    <tr>\n",
       "      <th>4</th>\n",
       "      <td>5</td>\n",
       "      <td>5</td>\n",
       "      <td>0.817269</td>\n",
       "      <td>0.824</td>\n",
       "      <td>-0.006731</td>\n",
       "    </tr>\n",
       "    <tr>\n",
       "      <th>5</th>\n",
       "      <td>4</td>\n",
       "      <td>6</td>\n",
       "      <td>0.815261</td>\n",
       "      <td>0.816</td>\n",
       "      <td>-0.000739</td>\n",
       "    </tr>\n",
       "    <tr>\n",
       "      <th>8</th>\n",
       "      <td>1</td>\n",
       "      <td>9</td>\n",
       "      <td>0.775100</td>\n",
       "      <td>0.800</td>\n",
       "      <td>-0.024900</td>\n",
       "    </tr>\n",
       "  </tbody>\n",
       "</table>\n",
       "</div>"
      ],
      "text/plain": [
       "   max_depth  min_sample_lead  train_accuracy  validate_accuracy  difference\n",
       "7          2                8        0.777108              0.840   -0.062892\n",
       "6          3                7        0.807229              0.824   -0.016771\n",
       "4          5                5        0.817269              0.824   -0.006731\n",
       "5          4                6        0.815261              0.816   -0.000739\n",
       "8          1                9        0.775100              0.800   -0.024900"
      ]
     },
     "execution_count": 111,
     "metadata": {},
     "output_type": "execute_result"
    }
   ],
   "source": [
    "df[df.difference <= 0.01].sort_values(by=['validate_accuracy', 'difference'], ascending = [False,True])"
   ]
  },
  {
   "cell_type": "markdown",
   "id": "b0273619",
   "metadata": {},
   "source": [
    "# KNN exercises"
   ]
  },
  {
   "cell_type": "markdown",
   "id": "206af1bb",
   "metadata": {},
   "source": [
    "Continue working in your `model.ipynb` file with the titanic dataset.\n",
    "\n",
    "1. Fit a K-Nearest Neighbors classifier to your training sample and transform (i.e. make predictions on the training sample)\n",
    "\n",
    "2. Evaluate your results using the model score, confusion matrix, and classification report.\n",
    "\n",
    "3. Print and clearly label the following: Accuracy, true positive rate, false positive rate, true negative rate, false negative rate, precision, recall, f1-score, and support.\n",
    "\n",
    "4. Run through steps 2-4 setting k to 10\n",
    "\n",
    "5. Run through setps 2-4 setting k to 20\n",
    "\n",
    "6. What are the differences in the evaluation metrics? Which performs better on your in-sample data? Why?\n",
    "\n",
    "7. Which model performs best on our out-of-sample data from validate?\n",
    "\n",
    "-------\n",
    "\n",
    "Once you have completed work on the titanic dataset, try building some knn models with your telco data."
   ]
  },
  {
   "cell_type": "markdown",
   "id": "7479c90d",
   "metadata": {},
   "source": [
    "### 1.Fit a K-Nearest Neighbors classifier to your training sample and transform"
   ]
  },
  {
   "cell_type": "code",
   "execution_count": 48,
   "id": "eb4ff244",
   "metadata": {},
   "outputs": [],
   "source": [
    "from sklearn.neighbors import KNeighborsClassifier\n",
    "from model import map_setosa_knn, train_validate_test_split\n",
    "\n",
    "# Create KNN Object\n",
    "knn1 = KNeighborsClassifier(n_neighbors=1, weights='uniform')"
   ]
  },
  {
   "cell_type": "code",
   "execution_count": 49,
   "id": "e7d81f3e",
   "metadata": {},
   "outputs": [
    {
     "data": {
      "text/plain": [
       "KNeighborsClassifier(n_neighbors=1)"
      ]
     },
     "execution_count": 49,
     "metadata": {},
     "output_type": "execute_result"
    }
   ],
   "source": [
    "# Fit the Model to the Training Data\n",
    "knn1.fit(X_train, y_train)"
   ]
  },
  {
   "cell_type": "code",
   "execution_count": 50,
   "id": "88fd5ec5",
   "metadata": {},
   "outputs": [
    {
     "data": {
      "text/plain": [
       "array(['0', '1', '1', '0', '0'], dtype=object)"
      ]
     },
     "execution_count": 50,
     "metadata": {},
     "output_type": "execute_result"
    }
   ],
   "source": [
    "# Make Predictions\n",
    "y_pred1 = knn1.predict(X_train)\n",
    "y_pred1[:5]"
   ]
  },
  {
   "cell_type": "code",
   "execution_count": 51,
   "id": "a36145b8",
   "metadata": {},
   "outputs": [
    {
     "data": {
      "text/plain": [
       "456    0\n",
       "8      1\n",
       "19     1\n",
       "95     0\n",
       "86     0\n",
       "Name: survived, dtype: object"
      ]
     },
     "execution_count": 51,
     "metadata": {},
     "output_type": "execute_result"
    }
   ],
   "source": [
    "y_train[:5]"
   ]
  },
  {
   "cell_type": "code",
   "execution_count": 52,
   "id": "f0e39cc6",
   "metadata": {},
   "outputs": [
    {
     "data": {
      "text/plain": [
       "array([[1., 0.],\n",
       "       [0., 1.],\n",
       "       [0., 1.],\n",
       "       [1., 0.],\n",
       "       [1., 0.]])"
      ]
     },
     "execution_count": 52,
     "metadata": {},
     "output_type": "execute_result"
    }
   ],
   "source": [
    "# Estimate Probability\n",
    "y_pred_proba1 = knn1.predict_proba(X_train)\n",
    "y_pred_proba1[:5]"
   ]
  },
  {
   "cell_type": "markdown",
   "id": "c74325f6",
   "metadata": {},
   "source": [
    "### 2.Evaluate your results using the model score, confusion matrix, and classification report.\n",
    "\n",
    "### *  Evaluate Model"
   ]
  },
  {
   "cell_type": "code",
   "execution_count": 63,
   "id": "25100856",
   "metadata": {},
   "outputs": [
    {
     "name": "stdout",
     "output_type": "stream",
     "text": [
      "Accuracy of KNN(k=1) classifier on training set: 0.89\n"
     ]
    }
   ],
   "source": [
    "# Compute the Accuracy\n",
    "\n",
    "print('Accuracy of KNN(k=1) classifier on training set: {:.2f}'\n",
    "     .format(knn1.score(X_train, y_train)))"
   ]
  },
  {
   "cell_type": "code",
   "execution_count": 53,
   "id": "c32a4bf5",
   "metadata": {},
   "outputs": [
    {
     "name": "stdout",
     "output_type": "stream",
     "text": [
      "[[278  20]\n",
      " [ 37 163]]\n"
     ]
    }
   ],
   "source": [
    "# Create a Confusion Matrix\n",
    "\n",
    "print(confusion_matrix(y_train, y_pred1))"
   ]
  },
  {
   "cell_type": "code",
   "execution_count": 54,
   "id": "18e9bb53",
   "metadata": {},
   "outputs": [
    {
     "data": {
      "text/html": [
       "<div>\n",
       "<style scoped>\n",
       "    .dataframe tbody tr th:only-of-type {\n",
       "        vertical-align: middle;\n",
       "    }\n",
       "\n",
       "    .dataframe tbody tr th {\n",
       "        vertical-align: top;\n",
       "    }\n",
       "\n",
       "    .dataframe thead th {\n",
       "        text-align: right;\n",
       "    }\n",
       "</style>\n",
       "<table border=\"1\" class=\"dataframe\">\n",
       "  <thead>\n",
       "    <tr style=\"text-align: right;\">\n",
       "      <th>col_0</th>\n",
       "      <th>0</th>\n",
       "      <th>1</th>\n",
       "    </tr>\n",
       "    <tr>\n",
       "      <th>survived</th>\n",
       "      <th></th>\n",
       "      <th></th>\n",
       "    </tr>\n",
       "  </thead>\n",
       "  <tbody>\n",
       "    <tr>\n",
       "      <th>0</th>\n",
       "      <td>278</td>\n",
       "      <td>20</td>\n",
       "    </tr>\n",
       "    <tr>\n",
       "      <th>1</th>\n",
       "      <td>37</td>\n",
       "      <td>163</td>\n",
       "    </tr>\n",
       "  </tbody>\n",
       "</table>\n",
       "</div>"
      ],
      "text/plain": [
       "col_0       0    1\n",
       "survived          \n",
       "0         278   20\n",
       "1          37  163"
      ]
     },
     "execution_count": 54,
     "metadata": {},
     "output_type": "execute_result"
    }
   ],
   "source": [
    "pd.crosstab(y_train, y_pred1)"
   ]
  },
  {
   "cell_type": "code",
   "execution_count": 55,
   "id": "df9bfd65",
   "metadata": {},
   "outputs": [
    {
     "data": {
      "text/plain": [
       "<sklearn.metrics._plot.confusion_matrix.ConfusionMatrixDisplay at 0x7f91530685b0>"
      ]
     },
     "execution_count": 55,
     "metadata": {},
     "output_type": "execute_result"
    },
    {
     "data": {
      "image/png": "[encoded data removed]",
      "text/plain": [
       "<Figure size 864x360 with 2 Axes>"
      ]
     },
     "metadata": {
      "needs_background": "light"
     },
     "output_type": "display_data"
    }
   ],
   "source": [
    "plot_confusion_matrix(knn1, X_train, y_train)"
   ]
  },
  {
   "cell_type": "code",
   "execution_count": 56,
   "id": "5ad1aa2c",
   "metadata": {},
   "outputs": [
    {
     "data": {
      "text/plain": [
       "(278, 20, 37, 163)"
      ]
     },
     "execution_count": 56,
     "metadata": {},
     "output_type": "execute_result"
    }
   ],
   "source": [
    "# Create a Classification Report\n",
    "\n",
    "TN1, FP1, FN1, TP1 = confusion_matrix(y_train, y_pred1).ravel()\n",
    "TN1, FP1, FN1, TP1"
   ]
  },
  {
   "cell_type": "code",
   "execution_count": 57,
   "id": "252d3506",
   "metadata": {},
   "outputs": [
    {
     "name": "stdout",
     "output_type": "stream",
     "text": [
      "              precision    recall  f1-score   support\n",
      "\n",
      "           0       0.88      0.93      0.91       298\n",
      "           1       0.89      0.81      0.85       200\n",
      "\n",
      "    accuracy                           0.89       498\n",
      "   macro avg       0.89      0.87      0.88       498\n",
      "weighted avg       0.89      0.89      0.88       498\n",
      "\n"
     ]
    }
   ],
   "source": [
    "print(classification_report(y_train, y_pred1))"
   ]
  },
  {
   "cell_type": "markdown",
   "id": "6759f254",
   "metadata": {},
   "source": [
    "### 3.Print and clearly label the following: Accuracy, true positive rate, false positive rate, true negative rate, false negative rate, precision, recall, f1-score, and support."
   ]
  },
  {
   "cell_type": "code",
   "execution_count": 58,
   "id": "129cc514",
   "metadata": {},
   "outputs": [
    {
     "name": "stdout",
     "output_type": "stream",
     "text": [
      "Accuracy: 0.8855421686746988 \n",
      "\n",
      "True Positive Rate/Sensitivity/Recall/Power: 0.815 \n",
      "\n",
      "False Positive Rate/False Alarm Ratio/Fall-out: 0.06711409395973154 \n",
      "\n",
      "True Negative Rate/Specificity/Selectivity: 0.9328859060402684 \n",
      "\n",
      "False Negative Rate/Miss Rate: 0.185 \n",
      "\n",
      "Precision/PPV: 0.8907103825136612 \n",
      "\n",
      "F1 Score: 0.8511749347258486 \n",
      "\n",
      "Support (0): 298 \n",
      "\n",
      "Support (1): 200\n"
     ]
    }
   ],
   "source": [
    "ALL1 = TP1 + FP1 + FN1 + TN1\n",
    "\n",
    "accuracy = (TP1 + TN1)/ALL1\n",
    "true_positive_rate = sensitivity = recall = power = TP1/(TP1+FN1)\n",
    "false_positive_rate = false_alarm_ratio = fallout = FP1/(FP1+TN1)\n",
    "true_negative_rate = specificity = selectivity = TN1/(TN1+FP1)\n",
    "false_negative_rate = miss_rate = FN1/(FN1+TP1)\n",
    "precision = PPV = TP1/(TP1+FP1)\n",
    "f1_score = 2*(precision*recall)/(precision+recall)\n",
    "support_pos = TP1 + FN1\n",
    "support_neg = FP1 + TN1\n",
    "\n",
    "print(f\"Accuracy: {accuracy}\", '\\n')\n",
    "print(f\"True Positive Rate/Sensitivity/Recall/Power: {true_positive_rate}\", '\\n')\n",
    "print(f\"False Positive Rate/False Alarm Ratio/Fall-out: {false_positive_rate}\", '\\n')\n",
    "print(f\"True Negative Rate/Specificity/Selectivity: {true_negative_rate}\", '\\n')\n",
    "print(f\"False Negative Rate/Miss Rate: {false_negative_rate}\", '\\n')\n",
    "print(f\"Precision/PPV: {precision}\", '\\n')\n",
    "print(f\"F1 Score: {f1_score}\", '\\n')\n",
    "print(f\"Support (0): {support_neg}\", '\\n')\n",
    "print(f\"Support (1): {support_pos}\")"
   ]
  },
  {
   "cell_type": "markdown",
   "id": "6bc839ff",
   "metadata": {},
   "source": [
    "### 4.Run through steps 2-4 setting k to 10"
   ]
  },
  {
   "cell_type": "code",
   "execution_count": 64,
   "id": "5df47317",
   "metadata": {},
   "outputs": [
    {
     "name": "stdout",
     "output_type": "stream",
     "text": [
      "Accuracy of KNN (k=10) classifier on training set: 0.77\n"
     ]
    }
   ],
   "source": [
    "knn10 = KNeighborsClassifier(n_neighbors=10, weights='uniform')\n",
    "\n",
    "knn10.fit(X_train, y_train)\n",
    "\n",
    "y_pred10 = knn10.predict(X_train)\n",
    "\n",
    "y_pred_proba10 = knn10.predict_proba(X_train)\n",
    "\n",
    "print('Accuracy of KNN (k=10) classifier on training set: {:.2f}'\n",
    "     .format(knn10.score(X_train, y_train)))"
   ]
  },
  {
   "cell_type": "markdown",
   "id": "ae180884",
   "metadata": {},
   "source": [
    "### 5.Run through setps 2-4 setting k to 20"
   ]
  },
  {
   "cell_type": "code",
   "execution_count": 65,
   "id": "fd686ded",
   "metadata": {},
   "outputs": [
    {
     "name": "stdout",
     "output_type": "stream",
     "text": [
      "Accuracy of KNN (k=20) classifier on training set: 0.71\n"
     ]
    }
   ],
   "source": [
    "knn20 = KNeighborsClassifier(n_neighbors=20, weights='uniform')\n",
    "\n",
    "knn20.fit(X_train, y_train)\n",
    "\n",
    "y_pred20 = knn20.predict(X_train)\n",
    "\n",
    "y_pred_proba20 = knn20.predict_proba(X_train)\n",
    "\n",
    "print('Accuracy of KNN (k=20) classifier on training set: {:.2f}'\n",
    "     .format(knn20.score(X_train, y_train)))"
   ]
  },
  {
   "cell_type": "code",
   "execution_count": null,
   "id": "4addc3c6",
   "metadata": {},
   "outputs": [],
   "source": []
  },
  {
   "cell_type": "markdown",
   "id": "fa7c44f5",
   "metadata": {},
   "source": [
    "### 6.What are the differences in the evaluation metrics? Which performs better on your in-sample data? Why?"
   ]
  },
  {
   "cell_type": "code",
   "execution_count": 66,
   "id": "65fb9ef8",
   "metadata": {},
   "outputs": [
    {
     "name": "stdout",
     "output_type": "stream",
     "text": [
      "Accuracy of KNN (k=1) classifier on training set: 0.89\n",
      "Accuracy of KNN (k=10) classifier on training set: 0.77\n",
      "Accuracy of KNN (k=20) classifier on training set: 0.71\n"
     ]
    }
   ],
   "source": [
    "print('Accuracy of KNN (k=1) classifier on training set: {:.2f}'\n",
    "     .format(knn1.score(X_train, y_train)))\n",
    "print('Accuracy of KNN (k=10) classifier on training set: {:.2f}'\n",
    "     .format(knn10.score(X_train, y_train)))\n",
    "print('Accuracy of KNN (k=20) classifier on training set: {:.2f}'\n",
    "     .format(knn20.score(X_train, y_train)))"
   ]
  },
  {
   "cell_type": "code",
   "execution_count": null,
   "id": "621a1d78",
   "metadata": {},
   "outputs": [],
   "source": [
    "# K = 1 performs better"
   ]
  },
  {
   "cell_type": "markdown",
   "id": "4e95b69e",
   "metadata": {},
   "source": [
    "### 7. Which model performs best on our out-of-sample data from validate?"
   ]
  },
  {
   "cell_type": "code",
   "execution_count": 67,
   "id": "c268cdf5",
   "metadata": {},
   "outputs": [
    {
     "name": "stdout",
     "output_type": "stream",
     "text": [
      "Accuracy of KNN (k=1) classifier on validate set: 0.75\n",
      "Accuracy of KNN (k=10) classifier on validate set: 0.75\n",
      "Accuracy of KNN (k=20) classifier on validate set: 0.72\n"
     ]
    }
   ],
   "source": [
    "# validate\n",
    "print('Accuracy of KNN (k=1) classifier on validate set: {:.2f}'\n",
    "     .format(knn1.score(X_validate, y_validate)))\n",
    "\n",
    "print('Accuracy of KNN (k=10) classifier on validate set: {:.2f}'\n",
    "     .format(knn10.score(X_validate, y_validate)))\n",
    "\n",
    "print('Accuracy of KNN (k=20) classifier on validate set: {:.2f}'\n",
    "     .format(knn20.score(X_validate, y_validate)))"
   ]
  },
  {
   "cell_type": "code",
   "execution_count": null,
   "id": "873ddd1a",
   "metadata": {},
   "outputs": [],
   "source": []
  },
  {
   "cell_type": "code",
   "execution_count": 68,
   "id": "668facd9",
   "metadata": {},
   "outputs": [
    {
     "name": "stdout",
     "output_type": "stream",
     "text": [
      "Accuracy of KNN (k=1) classifier on validate set: 0.77\n",
      "Accuracy of KNN (k=10) classifier on validate set: 0.80\n",
      "Accuracy of KNN (k=20) classifier on validate set: 0.73\n"
     ]
    }
   ],
   "source": [
    "# test\n",
    "print('Accuracy of KNN (k=1) classifier on validate set: {:.2f}'\n",
    "     .format(knn1.score(X_test, y_test)))\n",
    "\n",
    "print('Accuracy of KNN (k=10) classifier on validate set: {:.2f}'\n",
    "     .format(knn10.score(X_test, y_test)))\n",
    "\n",
    "print('Accuracy of KNN (k=20) classifier on validate set: {:.2f}'\n",
    "     .format(knn20.score(X_test, y_test)))"
   ]
  },
  {
   "cell_type": "code",
   "execution_count": 73,
   "id": "ce81f761",
   "metadata": {},
   "outputs": [
    {
     "data": {
      "image/png": "[encoded data removed]",
      "text/plain": [
       "<Figure size 864x360 with 1 Axes>"
      ]
     },
     "metadata": {
      "needs_background": "light"
     },
     "output_type": "display_data"
    }
   ],
   "source": [
    "k_range = range(1, 20)\n",
    "train_scores = []\n",
    "validate_scores = []\n",
    "test_scores = []\n",
    "for k in k_range:\n",
    "    knn = KNeighborsClassifier(n_neighbors = k)\n",
    "    knn.fit(X_train, y_train)\n",
    "    train_scores.append(knn.score(X_train, y_train))\n",
    "    validate_scores.append(knn.score(X_validate, y_validate))\n",
    "    test_scores.append(knn.score(X_test, y_test))\n",
    "plt.figure()\n",
    "plt.xlabel('k')\n",
    "plt.ylabel('accuracy')\n",
    "plt.plot(k_range, train_scores, label='Train')\n",
    "plt.plot(k_range, validate_scores, label='Validate')\n",
    "plt.plot(k_range, test_scores, label='Test')\n",
    "plt.legend()\n",
    "plt.xticks([0,5,10,15,20])\n",
    "plt.show()"
   ]
  },
  {
   "cell_type": "markdown",
   "id": "d310aaf5",
   "metadata": {},
   "source": []
  },
  {
   "cell_type": "code",
   "execution_count": null,
   "id": "8c00448f",
   "metadata": {},
   "outputs": [],
   "source": []
  },
  {
   "cell_type": "code",
   "execution_count": null,
   "id": "943ef5ad",
   "metadata": {},
   "outputs": [],
   "source": []
  },
  {
   "cell_type": "code",
   "execution_count": null,
   "id": "e5d4370b",
   "metadata": {},
   "outputs": [],
   "source": []
  },
  {
   "cell_type": "code",
   "execution_count": null,
   "id": "a89cb992",
   "metadata": {},
   "outputs": [],
   "source": []
  }
 ],
 "metadata": {
  "kernelspec": {
   "display_name": "Python 3 (ipykernel)",
   "language": "python",
   "name": "python3"
  },
  "language_info": {
   "codemirror_mode": {
    "name": "ipython",
    "version": 3
   },
   "file_extension": ".py",
   "mimetype": "text/x-python",
   "name": "python",
   "nbconvert_exporter": "python",
   "pygments_lexer": "ipython3",
   "version": "3.9.12"
  }
 },
 "nbformat": 4,
 "nbformat_minor": 5
}
